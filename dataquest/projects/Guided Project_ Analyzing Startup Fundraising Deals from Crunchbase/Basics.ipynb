{
 "cells": [
  {
   "cell_type": "code",
   "execution_count": 6,
   "metadata": {
    "collapsed": false
   },
   "outputs": [],
   "source": [
    "import pandas as pd\n",
    "import pprint as pp"
   ]
  },
  {
   "cell_type": "code",
   "execution_count": 7,
   "metadata": {
    "collapsed": false
   },
   "outputs": [
    {
     "name": "stdout",
     "output_type": "stream",
     "text": [
      "<class 'pandas.io.parsers.TextFileReader'>\n",
      "{'company_category_code': 3.271106719970703,\n",
      " 'company_city': 3.351999282836914,\n",
      " 'company_country_code': 3.033710479736328,\n",
      " 'company_name': 3.433443069458008,\n",
      " 'company_permalink': 3.8782958984375,\n",
      " 'company_region': 3.262028694152832,\n",
      " 'company_state_code': 2.970648765563965,\n",
      " 'funded_at': 3.3865785598754883,\n",
      " 'funded_month': 3.2353248596191406,\n",
      " 'funded_quarter': 3.2353248596191406,\n",
      " 'funded_year': 0.4118537902832031,\n",
      " 'funding_round_type': 3.2611913681030273,\n",
      " 'investor_category_code': 0.5677452087402344,\n",
      " 'investor_city': 2.7370290756225586,\n",
      " 'investor_country_code': 2.51025390625,\n",
      " 'investor_name': 3.742757797241211,\n",
      " 'investor_permalink': 4.758308410644531,\n",
      " 'investor_region': 3.247433662414551,\n",
      " 'investor_state_code': 2.347476005554199,\n",
      " 'raised_amount_usd': 0.4118537902832031}\n",
      " \n",
      "total memory usage  57.05436420440674\n"
     ]
    }
   ],
   "source": [
    "data = pd.read_csv(\"crunchbase-investments.csv\", chunksize=500,encoding='ISO-8859-1')\n",
    "print(type(data))\n",
    "total_col_memory = dict()\n",
    "\n",
    "for i in data:\n",
    "    for col in i.columns:\n",
    "        if col not in total_col_memory.keys():\n",
    "            total_col_memory[col] = i[col].memory_usage(deep=True)/(1024**2)\n",
    "        else:\n",
    "            total_col_memory[col] += i[col].memory_usage(deep=True)/(1024**2)\n",
    "total_memory = sum([v for v in total_col_memory.values()])\n",
    "\n",
    "pp.pprint(total_col_memory)\n",
    "print(\" \")\n",
    "print(\"total memory usage \", total_memory)"
   ]
  },
  {
   "cell_type": "code",
   "execution_count": null,
   "metadata": {
    "collapsed": false,
    "scrolled": false
   },
   "outputs": [],
   "source": []
  },
  {
   "cell_type": "code",
   "execution_count": 22,
   "metadata": {
    "collapsed": false
   },
   "outputs": [
    {
     "data": {
      "text/html": [
       "<div>\n",
       "<style scoped>\n",
       "    .dataframe tbody tr th:only-of-type {\n",
       "        vertical-align: middle;\n",
       "    }\n",
       "\n",
       "    .dataframe tbody tr th {\n",
       "        vertical-align: top;\n",
       "    }\n",
       "\n",
       "    .dataframe thead th {\n",
       "        text-align: right;\n",
       "    }\n",
       "</style>\n",
       "<table border=\"1\" class=\"dataframe\">\n",
       "  <thead>\n",
       "    <tr style=\"text-align: right;\">\n",
       "      <th></th>\n",
       "      <th>company_category_code</th>\n",
       "      <th>company_state_code</th>\n",
       "      <th>company_region</th>\n",
       "      <th>company_city</th>\n",
       "      <th>investor_name</th>\n",
       "      <th>investor_category_code</th>\n",
       "      <th>investor_country_code</th>\n",
       "      <th>investor_state_code</th>\n",
       "      <th>investor_region</th>\n",
       "      <th>investor_city</th>\n",
       "      <th>funding_round_type</th>\n",
       "      <th>funded_at</th>\n",
       "      <th>raised_amount_usd</th>\n",
       "    </tr>\n",
       "  </thead>\n",
       "  <tbody>\n",
       "    <tr>\n",
       "      <th>0</th>\n",
       "      <td>0</td>\n",
       "      <td>3</td>\n",
       "      <td>162</td>\n",
       "      <td>413</td>\n",
       "      <td>1</td>\n",
       "      <td>-1</td>\n",
       "      <td>43</td>\n",
       "      <td>28</td>\n",
       "      <td>138</td>\n",
       "      <td>221</td>\n",
       "      <td>5</td>\n",
       "      <td>2012-10-30</td>\n",
       "      <td>2000000.0</td>\n",
       "    </tr>\n",
       "    <tr>\n",
       "      <th>1</th>\n",
       "      <td>26</td>\n",
       "      <td>3</td>\n",
       "      <td>162</td>\n",
       "      <td>303</td>\n",
       "      <td>4</td>\n",
       "      <td>8</td>\n",
       "      <td>43</td>\n",
       "      <td>29</td>\n",
       "      <td>46</td>\n",
       "      <td>77</td>\n",
       "      <td>2</td>\n",
       "      <td>2012-01-23</td>\n",
       "      <td>20000.0</td>\n",
       "    </tr>\n",
       "    <tr>\n",
       "      <th>2</th>\n",
       "      <td>21</td>\n",
       "      <td>-1</td>\n",
       "      <td>195</td>\n",
       "      <td>-1</td>\n",
       "      <td>4</td>\n",
       "      <td>8</td>\n",
       "      <td>43</td>\n",
       "      <td>29</td>\n",
       "      <td>46</td>\n",
       "      <td>77</td>\n",
       "      <td>2</td>\n",
       "      <td>2012-01-01</td>\n",
       "      <td>20000.0</td>\n",
       "    </tr>\n",
       "    <tr>\n",
       "      <th>3</th>\n",
       "      <td>37</td>\n",
       "      <td>33</td>\n",
       "      <td>44</td>\n",
       "      <td>535</td>\n",
       "      <td>4</td>\n",
       "      <td>8</td>\n",
       "      <td>43</td>\n",
       "      <td>29</td>\n",
       "      <td>46</td>\n",
       "      <td>77</td>\n",
       "      <td>0</td>\n",
       "      <td>2012-02-15</td>\n",
       "      <td>20000.0</td>\n",
       "    </tr>\n",
       "    <tr>\n",
       "      <th>4</th>\n",
       "      <td>41</td>\n",
       "      <td>33</td>\n",
       "      <td>41</td>\n",
       "      <td>108</td>\n",
       "      <td>4</td>\n",
       "      <td>8</td>\n",
       "      <td>43</td>\n",
       "      <td>29</td>\n",
       "      <td>46</td>\n",
       "      <td>77</td>\n",
       "      <td>2</td>\n",
       "      <td>2011-09-08</td>\n",
       "      <td>20000.0</td>\n",
       "    </tr>\n",
       "  </tbody>\n",
       "</table>\n",
       "</div>"
      ],
      "text/plain": [
       "   company_category_code  company_state_code  company_region  company_city  \\\n",
       "0                      0                   3             162           413   \n",
       "1                     26                   3             162           303   \n",
       "2                     21                  -1             195            -1   \n",
       "3                     37                  33              44           535   \n",
       "4                     41                  33              41           108   \n",
       "\n",
       "   investor_name  investor_category_code  investor_country_code  \\\n",
       "0              1                      -1                     43   \n",
       "1              4                       8                     43   \n",
       "2              4                       8                     43   \n",
       "3              4                       8                     43   \n",
       "4              4                       8                     43   \n",
       "\n",
       "   investor_state_code  investor_region  investor_city  funding_round_type  \\\n",
       "0                   28              138            221                   5   \n",
       "1                   29               46             77                   2   \n",
       "2                   29               46             77                   2   \n",
       "3                   29               46             77                   0   \n",
       "4                   29               46             77                   2   \n",
       "\n",
       "   funded_at  raised_amount_usd  \n",
       "0 2012-10-30          2000000.0  \n",
       "1 2012-01-23            20000.0  \n",
       "2 2012-01-01            20000.0  \n",
       "3 2012-02-15            20000.0  \n",
       "4 2011-09-08            20000.0  "
      ]
     },
     "execution_count": 22,
     "metadata": {},
     "output_type": "execute_result"
    }
   ],
   "source": [
    "data = pd.read_csv(\"crunchbase-investments.csv\", chunksize=5000,encoding='ISO-8859-1')\n",
    "\n",
    "\n",
    "cleaned_data = list()\n",
    "for i in data:\n",
    "    i.drop([\"company_name\",\"company_country_code\",\"company_permalink\",\"investor_permalink\",\"funded_month\",\"funded_quarter\",\"funded_year\"],inplace=True,axis=1)\n",
    "    i[\"funded_at\"] = pd.to_datetime(i[\"funded_at\"])\n",
    "    \n",
    "    to_cat = [\"company_category_code\", \"company_state_code\",\"company_region\",\"company_city\",\n",
    "              \"investor_category_code\",\"investor_country_code\",\"investor_state_code\",\"investor_region\",\n",
    "              \"investor_city\",\"funding_round_type\",\"investor_name\"]\n",
    "    for j in to_cat:\n",
    "        i[j] = i[j].astype(\"category\").cat.codes\n",
    "    cleaned_data.append(i)\n",
    "\n",
    "    \n",
    "pd.concat(cleaned_data).head()  "
   ]
  },
  {
   "cell_type": "code",
   "execution_count": 11,
   "metadata": {
    "collapsed": false
   },
   "outputs": [],
   "source": [
    "import sqlite3\n",
    "import pprint as pp\n",
    "conn = sqlite3.connect(\"crunchbase.db\")\n",
    "conn.rollback()\n",
    "cur = conn.cursor()\n",
    "chunk_iter = pd.read_csv(\"crunchbase-investments.csv\", chunksize=5000,encoding='ISO-8859-1')\n",
    "\n",
    "for chunk in chunk_iter:\n",
    "    chunk.to_sql(\"investment\",conn, if_exists=\"append\", index=False)\n"
   ]
  },
  {
   "cell_type": "code",
   "execution_count": 18,
   "metadata": {
    "collapsed": false
   },
   "outputs": [
    {
     "name": "stdout",
     "output_type": "stream",
     "text": [
      "[('/company/advercar', 'AdverCar', 'advertising', 'USA', 'CA', 'SF Bay', 'San Francisco', '/company/1-800-flowers-com', '1-800-FLOWERS.COM', None, 'USA', 'NY', 'New York', 'New York', 'series-a', '2012-10-30', '2012-10', '2012-Q4', 2012, 2000000.0)] \n",
      "\n",
      "[(0, 'company_permalink', 'TEXT', 0, None, 0),\n",
      " (1, 'company_name', 'TEXT', 0, None, 0),\n",
      " (2, 'company_category_code', 'TEXT', 0, None, 0),\n",
      " (3, 'company_country_code', 'TEXT', 0, None, 0),\n",
      " (4, 'company_state_code', 'TEXT', 0, None, 0),\n",
      " (5, 'company_region', 'TEXT', 0, None, 0),\n",
      " (6, 'company_city', 'TEXT', 0, None, 0),\n",
      " (7, 'investor_permalink', 'TEXT', 0, None, 0),\n",
      " (8, 'investor_name', 'TEXT', 0, None, 0),\n",
      " (9, 'investor_category_code', 'TEXT', 0, None, 0),\n",
      " (10, 'investor_country_code', 'TEXT', 0, None, 0),\n",
      " (11, 'investor_state_code', 'TEXT', 0, None, 0),\n",
      " (12, 'investor_region', 'TEXT', 0, None, 0),\n",
      " (13, 'investor_city', 'TEXT', 0, None, 0),\n",
      " (14, 'funding_round_type', 'TEXT', 0, None, 0),\n",
      " (15, 'funded_at', 'TEXT', 0, None, 0),\n",
      " (16, 'funded_month', 'TEXT', 0, None, 0),\n",
      " (17, 'funded_quarter', 'TEXT', 0, None, 0),\n",
      " (18, 'funded_year', 'INTEGER', 0, None, 0),\n",
      " (19, 'raised_amount_usd', 'REAL', 0, None, 0)]\n"
     ]
    }
   ],
   "source": [
    "cur.execute(\"SELECT * FROM investment LIMIT 1\")\n",
    "print(cur.fetchall(),\"\\n\")\n",
    "cur.execute(\"PRAGMA table_info(investment)\")\n",
    "pp.pprint(cur.fetchall())"
   ]
  },
  {
   "cell_type": "code",
   "execution_count": null,
   "metadata": {
    "collapsed": true
   },
   "outputs": [],
   "source": []
  }
 ],
 "metadata": {
  "anaconda-cloud": {},
  "kernelspec": {
   "display_name": "Python 3",
   "language": "python",
   "name": "python3"
  },
  "language_info": {
   "codemirror_mode": {
    "name": "ipython",
    "version": 3
   },
   "file_extension": ".py",
   "mimetype": "text/x-python",
   "name": "python",
   "nbconvert_exporter": "python",
   "pygments_lexer": "ipython3",
   "version": "3.4.3"
  }
 },
 "nbformat": 4,
 "nbformat_minor": 2
}
