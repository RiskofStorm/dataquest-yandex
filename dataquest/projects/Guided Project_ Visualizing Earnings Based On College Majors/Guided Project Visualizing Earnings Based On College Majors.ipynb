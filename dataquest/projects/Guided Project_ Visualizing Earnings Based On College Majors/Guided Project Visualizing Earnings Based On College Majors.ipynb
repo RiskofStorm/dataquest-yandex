{
 "cells": [
  {
   "cell_type": "code",
   "execution_count": 3,
   "metadata": {
    "collapsed": false
   },
   "outputs": [
    {
     "name": "stdout",
     "output_type": "stream",
     "text": [
      "     Rank  Major_code            Major   Total    Men  Women Major_category  \\\n",
      "172   173        3501  LIBRARY SCIENCE  1098.0  134.0  964.0      Education   \n",
      "\n",
      "     ShareWomen  Sample_size  Employed      ...        Part_time  \\\n",
      "172     0.87796            2       742      ...              237   \n",
      "\n",
      "     Full_time_year_round  Unemployed  Unemployment_rate  Median  P25th  \\\n",
      "172                   410          87           0.104946   22000  20000   \n",
      "\n",
      "     P75th  College_jobs  Non_college_jobs  Low_wage_jobs  \n",
      "172  22000           288               338            192  \n",
      "\n",
      "[1 rows x 21 columns]\n",
      "             Rank   Major_code          Total            Men          Women  \\\n",
      "count  173.000000   173.000000     172.000000     172.000000     172.000000   \n",
      "mean    87.000000  3879.815029   39370.081395   16723.406977   22646.674419   \n",
      "std     50.084928  1687.753140   63483.491009   28122.433474   41057.330740   \n",
      "min      1.000000  1100.000000     124.000000     119.000000       0.000000   \n",
      "25%     44.000000  2403.000000    4549.750000    2177.500000    1778.250000   \n",
      "50%     87.000000  3608.000000   15104.000000    5434.000000    8386.500000   \n",
      "75%    130.000000  5503.000000   38909.750000   14631.000000   22553.750000   \n",
      "max    173.000000  6403.000000  393735.000000  173809.000000  307087.000000   \n",
      "\n",
      "       ShareWomen  Sample_size       Employed      Full_time      Part_time  \\\n",
      "count  172.000000   173.000000     173.000000     173.000000     173.000000   \n",
      "mean     0.522223   356.080925   31192.763006   26029.306358    8832.398844   \n",
      "std      0.231205   618.361022   50675.002241   42869.655092   14648.179473   \n",
      "min      0.000000     2.000000       0.000000     111.000000       0.000000   \n",
      "25%      0.336026    39.000000    3608.000000    3154.000000    1030.000000   \n",
      "50%      0.534024   130.000000   11797.000000   10048.000000    3299.000000   \n",
      "75%      0.703299   338.000000   31433.000000   25147.000000    9948.000000   \n",
      "max      0.968954  4212.000000  307933.000000  251540.000000  115172.000000   \n",
      "\n",
      "       Full_time_year_round    Unemployed  Unemployment_rate         Median  \\\n",
      "count            173.000000    173.000000         173.000000     173.000000   \n",
      "mean           19694.427746   2416.329480           0.068191   40151.445087   \n",
      "std            33160.941514   4112.803148           0.030331   11470.181802   \n",
      "min              111.000000      0.000000           0.000000   22000.000000   \n",
      "25%             2453.000000    304.000000           0.050306   33000.000000   \n",
      "50%             7413.000000    893.000000           0.067961   36000.000000   \n",
      "75%            16891.000000   2393.000000           0.087557   45000.000000   \n",
      "max           199897.000000  28169.000000           0.177226  110000.000000   \n",
      "\n",
      "              P25th          P75th   College_jobs  Non_college_jobs  \\\n",
      "count    173.000000     173.000000     173.000000        173.000000   \n",
      "mean   29501.445087   51494.219653   12322.635838      13284.497110   \n",
      "std     9166.005235   14906.279740   21299.868863      23789.655363   \n",
      "min    18500.000000   22000.000000       0.000000          0.000000   \n",
      "25%    24000.000000   42000.000000    1675.000000       1591.000000   \n",
      "50%    27000.000000   47000.000000    4390.000000       4595.000000   \n",
      "75%    33000.000000   60000.000000   14444.000000      11783.000000   \n",
      "max    95000.000000  125000.000000  151643.000000     148395.000000   \n",
      "\n",
      "       Low_wage_jobs  \n",
      "count     173.000000  \n",
      "mean     3859.017341  \n",
      "std      6944.998579  \n",
      "min         0.000000  \n",
      "25%       340.000000  \n",
      "50%      1231.000000  \n",
      "75%      3466.000000  \n",
      "max     48207.000000  \n",
      "173\n",
      "172\n"
     ]
    }
   ],
   "source": [
    "%matplotlib inline\n",
    "import pandas as pd\n",
    "\n",
    "recent_grads = pd.read_csv('recent-grads.csv')\n",
    "recent_grads.iloc([0])\n",
    "# print(recent_grads.head(2))\n",
    "print(recent_grads.tail(1))\n",
    "print(recent_grads.describe())\n",
    "\n",
    "raw_data_count = len(recent_grads)\n",
    "recent_grads = recent_grads.dropna()\n",
    "cleaned_data_count = len(recent_grads.dropna())\n",
    "print(raw_data_count)\n",
    "print(cleaned_data_count)\n",
    "\n"
   ]
  },
  {
   "cell_type": "code",
   "execution_count": null,
   "metadata": {
    "collapsed": true
   },
   "outputs": [],
   "source": []
  }
 ],
 "metadata": {
  "kernelspec": {
   "display_name": "Python 3",
   "language": "python",
   "name": "python3"
  },
  "language_info": {
   "codemirror_mode": {
    "name": "ipython",
    "version": 3
   },
   "file_extension": ".py",
   "mimetype": "text/x-python",
   "name": "python",
   "nbconvert_exporter": "python",
   "pygments_lexer": "ipython3",
   "version": "3.4.3"
  }
 },
 "nbformat": 4,
 "nbformat_minor": 0
}
