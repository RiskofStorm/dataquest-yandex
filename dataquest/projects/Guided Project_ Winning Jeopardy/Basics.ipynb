{
 "cells": [
  {
   "cell_type": "code",
   "execution_count": 20,
   "metadata": {
    "collapsed": false
   },
   "outputs": [],
   "source": [
    "import pandas as pd\n",
    "import matplotlib as plt\n",
    "import numpy as np\n",
    "import re"
   ]
  },
  {
   "cell_type": "code",
   "execution_count": 21,
   "metadata": {
    "collapsed": false
   },
   "outputs": [
    {
     "data": {
      "text/html": [
       "<div>\n",
       "<table border=\"1\" class=\"dataframe\">\n",
       "  <thead>\n",
       "    <tr style=\"text-align: right;\">\n",
       "      <th></th>\n",
       "      <th>Show Number</th>\n",
       "      <th>Air Date</th>\n",
       "      <th>Round</th>\n",
       "      <th>Category</th>\n",
       "      <th>Value</th>\n",
       "      <th>Question</th>\n",
       "      <th>Answer</th>\n",
       "    </tr>\n",
       "  </thead>\n",
       "  <tbody>\n",
       "    <tr>\n",
       "      <th>0</th>\n",
       "      <td>4680</td>\n",
       "      <td>2004-12-31</td>\n",
       "      <td>Jeopardy!</td>\n",
       "      <td>HISTORY</td>\n",
       "      <td>$200</td>\n",
       "      <td>For the last 8 years of his life, Galileo was ...</td>\n",
       "      <td>Copernicus</td>\n",
       "    </tr>\n",
       "    <tr>\n",
       "      <th>1</th>\n",
       "      <td>4680</td>\n",
       "      <td>2004-12-31</td>\n",
       "      <td>Jeopardy!</td>\n",
       "      <td>ESPN's TOP 10 ALL-TIME ATHLETES</td>\n",
       "      <td>$200</td>\n",
       "      <td>No. 2: 1912 Olympian; football star at Carlisl...</td>\n",
       "      <td>Jim Thorpe</td>\n",
       "    </tr>\n",
       "    <tr>\n",
       "      <th>2</th>\n",
       "      <td>4680</td>\n",
       "      <td>2004-12-31</td>\n",
       "      <td>Jeopardy!</td>\n",
       "      <td>EVERYBODY TALKS ABOUT IT...</td>\n",
       "      <td>$200</td>\n",
       "      <td>The city of Yuma in this state has a record av...</td>\n",
       "      <td>Arizona</td>\n",
       "    </tr>\n",
       "    <tr>\n",
       "      <th>3</th>\n",
       "      <td>4680</td>\n",
       "      <td>2004-12-31</td>\n",
       "      <td>Jeopardy!</td>\n",
       "      <td>THE COMPANY LINE</td>\n",
       "      <td>$200</td>\n",
       "      <td>In 1963, live on \"The Art Linkletter Show\", th...</td>\n",
       "      <td>McDonald's</td>\n",
       "    </tr>\n",
       "    <tr>\n",
       "      <th>4</th>\n",
       "      <td>4680</td>\n",
       "      <td>2004-12-31</td>\n",
       "      <td>Jeopardy!</td>\n",
       "      <td>EPITAPHS &amp; TRIBUTES</td>\n",
       "      <td>$200</td>\n",
       "      <td>Signer of the Dec. of Indep., framer of the Co...</td>\n",
       "      <td>John Adams</td>\n",
       "    </tr>\n",
       "  </tbody>\n",
       "</table>\n",
       "</div>"
      ],
      "text/plain": [
       "   Show Number    Air Date      Round                         Category  Value  \\\n",
       "0         4680  2004-12-31  Jeopardy!                          HISTORY   $200   \n",
       "1         4680  2004-12-31  Jeopardy!  ESPN's TOP 10 ALL-TIME ATHLETES   $200   \n",
       "2         4680  2004-12-31  Jeopardy!      EVERYBODY TALKS ABOUT IT...   $200   \n",
       "3         4680  2004-12-31  Jeopardy!                 THE COMPANY LINE   $200   \n",
       "4         4680  2004-12-31  Jeopardy!              EPITAPHS & TRIBUTES   $200   \n",
       "\n",
       "                                            Question      Answer  \n",
       "0  For the last 8 years of his life, Galileo was ...  Copernicus  \n",
       "1  No. 2: 1912 Olympian; football star at Carlisl...  Jim Thorpe  \n",
       "2  The city of Yuma in this state has a record av...     Arizona  \n",
       "3  In 1963, live on \"The Art Linkletter Show\", th...  McDonald's  \n",
       "4  Signer of the Dec. of Indep., framer of the Co...  John Adams  "
      ]
     },
     "execution_count": 21,
     "metadata": {},
     "output_type": "execute_result"
    }
   ],
   "source": [
    "dataset = pd.read_csv(\"jeopardy.csv\")\n",
    "dataset.head(5)"
   ]
  },
  {
   "cell_type": "code",
   "execution_count": 22,
   "metadata": {
    "collapsed": false
   },
   "outputs": [
    {
     "name": "stdout",
     "output_type": "stream",
     "text": [
      "Index(['Show Number', ' Air Date', ' Round', ' Category', ' Value',\n",
      "       ' Question', ' Answer'],\n",
      "      dtype='object')\n"
     ]
    }
   ],
   "source": [
    "print(dataset.columns)"
   ]
  },
  {
   "cell_type": "code",
   "execution_count": 23,
   "metadata": {
    "collapsed": false
   },
   "outputs": [
    {
     "name": "stdout",
     "output_type": "stream",
     "text": [
      "['Show Number', ' Air Date', ' Round', ' Category', ' Value', ' Question', ' Answer']\n",
      "Index(['Show Number', 'Air Date', 'Round', 'Category', 'Value', 'Question',\n",
      "       'Answer'],\n",
      "      dtype='object')\n"
     ]
    }
   ],
   "source": [
    "name_list = list()\n",
    "old_list = list()\n",
    "\n",
    "for i in dataset.columns:\n",
    "    old_list.append(i)\n",
    "    if i.startswith(\" \"):\n",
    "        name_list.append(i.replace(\" \", \"\", 1))\n",
    "    else:\n",
    "        name_list.append(i)\n",
    "\n",
    "new_names = dict(zip(old_list, name_list))\n",
    "dataset.rename(index=str, columns=new_names, inplace=True)\n",
    "print(old_list)\n",
    "print(dataset.columns)"
   ]
  },
  {
   "cell_type": "code",
   "execution_count": 24,
   "metadata": {
    "collapsed": false
   },
   "outputs": [],
   "source": [
    "def norm_text(text):\n",
    "    pattern = re.compile(r\"[^A-Za-z0-9\\s]\")\n",
    "    text = text.split()\n",
    "    text = [i.lower() for i in text]\n",
    "    text = [re.sub(pattern,\"\", i) for i in text]\n",
    "    text = \" \".join(text)\n",
    "    return text\n",
    "test = \"No. 2: 1912 Olympian; football star at\"\n",
    "hi = norm_text(test)\n",
    "dataset['clean_question'] = dataset['Question'].apply(norm_text)\n",
    "dataset['clean_answer'] = dataset['Answer'].apply(norm_text)\n"
   ]
  },
  {
   "cell_type": "code",
   "execution_count": 25,
   "metadata": {
    "collapsed": false
   },
   "outputs": [],
   "source": [
    "def norm_int(integer):\n",
    "    pattern = re.compile(r\"[^A-Za-z0-9\\s]\")\n",
    "    integer = integer.split()\n",
    "    integer = [re.sub(pattern,\"\", i) for i in integer]\n",
    "    integer = \" \".join(integer)\n",
    "    \n",
    "    try:\n",
    "        integer = int(integer)\n",
    "    except ValueError:\n",
    "        integer = 0\n",
    "    return integer\n",
    "\n",
    "dataset['clean_value'] = dataset['Value'].apply(norm_int)\n",
    "\n",
    "dataset['Air Date'] = pd.to_datetime(dataset['Air Date'],format=\"%Y/%m/%d\")\n"
   ]
  },
  {
   "cell_type": "code",
   "execution_count": 26,
   "metadata": {
    "collapsed": false
   },
   "outputs": [
    {
     "name": "stdout",
     "output_type": "stream",
     "text": [
      "0.0590019652498\n"
     ]
    }
   ],
   "source": [
    "def count_occurrences(row):\n",
    "    split_answer = row['clean_answer'].split()\n",
    "    split_question = row['clean_question'].split()\n",
    "\n",
    "    match_count = 0\n",
    "    if \"the\" in split_answer:\n",
    "        split_answer.remove(\"the\")\n",
    "    if len(split_answer) == 0:\n",
    "        return 0\n",
    "    for i in split_answer:\n",
    "        if i in split_question:\n",
    "            match_count +=1\n",
    "    return match_count/len(split_answer)\n",
    "\n",
    "answer_in_question = dataset.apply(count_occurrences, axis=1)\n",
    "print(answer_in_question.mean())\n",
    "\n"
   ]
  },
  {
   "cell_type": "markdown",
   "metadata": {
    "collapsed": true
   },
   "source": [
    "There ** only 6%  that question would be asked again **.  \n",
    "This is extremely low chance. We have to make sure that percentage of full   data our dataset represent."
   ]
  },
  {
   "cell_type": "code",
   "execution_count": 27,
   "metadata": {
    "collapsed": false
   },
   "outputs": [
    {
     "name": "stdout",
     "output_type": "stream",
     "text": [
      "mean  0.692596005734\n"
     ]
    }
   ],
   "source": [
    "question_overlap = list()\n",
    "terms_used = set()\n",
    "dataset.sort_values(by=['Air Date'], ascending=True)\n",
    "cnt = 0\n",
    "for k,v in dataset.iterrows():\n",
    "    split_question = v['clean_question'].split()\n",
    "    split_question = [i for i in split_question if len(i) >= 6]\n",
    "    match_count = 0\n",
    "    for i in split_question:\n",
    "        if i in terms_used:\n",
    "            match_count += 1\n",
    "        terms_used.add(i)\n",
    "    if len(split_question) > 0:\n",
    "        match_count = match_count/len(split_question)\n",
    "    question_overlap.append(match_count)\n",
    "\n",
    "dataset['question_overlap'] = question_overlap\n",
    "print(\"mean \",dataset['question_overlap'].mean())\n",
    "# print(dataset['question_overlap'].sum()/len(question_overlap))"
   ]
  },
  {
   "cell_type": "markdown",
   "metadata": {},
   "source": [
    "The mean is about 65% that means we have a good chance to meet the question   in the future. Still it's only part of dataset, so we have to simulate the   other data."
   ]
  },
  {
   "cell_type": "code",
   "execution_count": 28,
   "metadata": {
    "collapsed": false
   },
   "outputs": [
    {
     "name": "stdout",
     "output_type": "stream",
     "text": [
      "[(1, 0), (1, 0), (1, 3), (1, 0), (0, 1)]\n"
     ]
    }
   ],
   "source": [
    " # HERE\n",
    "def filter_value(row):\n",
    "    if row['clean_value'] > 800:\n",
    "        value = 1\n",
    "    else:\n",
    "        value = 0\n",
    "    return value\n",
    "dataset['high_value'] = dataset.apply(filter_value, axis=1)\n",
    "\n",
    "def count_low_high(word):\n",
    "    low_count = 0\n",
    "    high_count = 0\n",
    "    for k,v in dataset.iterrows():\n",
    "        clean_q = v['clean_question'].split()\n",
    "        if word in clean_q:\n",
    "            if v['high_value'] == 1:\n",
    "                high_count += 1\n",
    "            else:\n",
    "                low_count += 1\n",
    "    return low_count, high_count\n",
    "observed_expected = list()\n",
    "terms_used = list(terms_used)\n",
    "comparison_terms = terms_used[:5]\n",
    "\n",
    "\n",
    "for i in comparison_terms:\n",
    "    observed_expected.append(count_low_high(i))\n",
    "print(observed_expected)\n"
   ]
  },
  {
   "cell_type": "code",
   "execution_count": 29,
   "metadata": {
    "collapsed": false
   },
   "outputs": [
    {
     "name": "stdout",
     "output_type": "stream",
     "text": [
      "[(0, 'Show Number'), (1, 'Air Date'), (2, 'Round'), (3, 'Category'), (4, 'Value'), (5, 'Question'), (6, 'Answer'), (7, 'clean_question'), (8, 'clean_answer'), (9, 'clean_value'), (10, 'question_overlap'), (11, 'high_value')]\n"
     ]
    }
   ],
   "source": [
    "print(list(enumerate(dataset.columns)))"
   ]
  },
  {
   "cell_type": "code",
   "execution_count": 30,
   "metadata": {
    "collapsed": false
   },
   "outputs": [
    {
     "name": "stdout",
     "output_type": "stream",
     "text": [
      "5734 14265\n"
     ]
    }
   ],
   "source": [
    "high_value_count = dataset[dataset['high_value'] == 1].shape[0]\n",
    "low_value_count = dataset[dataset['high_value'] == 0].shape[0]\n",
    "print(high_value_count,low_value_count)"
   ]
  },
  {
   "cell_type": "code",
   "execution_count": 31,
   "metadata": {
    "collapsed": false
   },
   "outputs": [],
   "source": [
    "from scipy.stats import chisquare\n",
    "chi_squared = list()\n",
    "\n",
    "for i in observed_expected:\n",
    "    total = i[0] + i[1]\n",
    "    tottal_prop = total/dataset.shape[0]\n",
    "    expected_high = tottal_prop * high_value_count\n",
    "    expected_low = tottal_prop * low_value_count\n",
    "    chi_sq, p_value = chisquare([i[0],i[1]], [expected_high,expected_low])\n",
    "    chi_squared.append((chi_sq,p_value))"
   ]
  },
  {
   "cell_type": "code",
   "execution_count": 32,
   "metadata": {
    "collapsed": false
   },
   "outputs": [
    {
     "data": {
      "text/plain": [
       "[(2.4877921171956752, 0.11473257634454047),\n",
       " (2.4877921171956752, 0.11473257634454047),\n",
       " (0.026364433084407689, 0.87101348468892104),\n",
       " (2.4877921171956752, 0.11473257634454047),\n",
       " (0.40196284612688399, 0.52607729857054686)]"
      ]
     },
     "execution_count": 32,
     "metadata": {},
     "output_type": "execute_result"
    }
   ],
   "source": [
    "chi_squared"
   ]
  },
  {
   "cell_type": "markdown",
   "metadata": {},
   "source": [
    "Definitly there is no statistically significant data that we are looking at.  \n",
    "\n",
    "Null hypothesis was that we can't learn the answer for question to answer   correctly and it wasn't rejected.  \n",
    "\n",
    "I want mention that it can depend from data cleaning. We dosen't study   cleaned text. So I can't say that it was good cleaned from useless sumbols  "
   ]
  },
  {
   "cell_type": "code",
   "execution_count": null,
   "metadata": {
    "collapsed": true
   },
   "outputs": [],
   "source": []
  }
 ],
 "metadata": {
  "kernelspec": {
   "display_name": "Python 3",
   "language": "python",
   "name": "python3"
  },
  "language_info": {
   "codemirror_mode": {
    "name": "ipython",
    "version": 3
   },
   "file_extension": ".py",
   "mimetype": "text/x-python",
   "name": "python",
   "nbconvert_exporter": "python",
   "pygments_lexer": "ipython3",
   "version": "3.4.3"
  }
 },
 "nbformat": 4,
 "nbformat_minor": 0
}
