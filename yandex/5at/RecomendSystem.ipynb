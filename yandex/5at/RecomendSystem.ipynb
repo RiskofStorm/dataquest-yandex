{
 "cells": [
  {
   "cell_type": "code",
   "execution_count": 169,
   "metadata": {},
   "outputs": [],
   "source": [
    "import pandas as pd\n",
    "from collections import Counter, OrderedDict\n",
    "from __future__ import division"
   ]
  },
  {
   "cell_type": "code",
   "execution_count": 2,
   "metadata": {},
   "outputs": [],
   "source": [
    "class OrderedCounter(Counter, OrderedDict):\n",
    "    'Counter that remembers the order elements are first encountered'\n",
    "\n",
    "    def __repr__(self):\n",
    "        return '%s(%r)' % (self.__class__.__name__, OrderedDict(self))\n",
    "\n",
    "    def __reduce__(self):\n",
    "        return self.__class__, (OrderedDict(self),)"
   ]
  },
  {
   "cell_type": "code",
   "execution_count": 168,
   "metadata": {},
   "outputs": [],
   "source": [
    "def id_freq(X, order=True):\n",
    "    if order:\n",
    "        return OrderedCounter(X.dropna().str.cat(sep=',').split(','))\n",
    "    else:\n",
    "        return Counter(X.dropna().str.cat(sep=',').split(','))\n",
    "\n",
    "def sort_by_pop(row, freq_dict):\n",
    "    row = np.unique(row.split(\",\"), return_index=True)\n",
    "    row = pd.Series(row[0], index=row[1]).sort_index().tolist()\n",
    "    return sorted(row, key=freq_dict.get, reverse=True)\n",
    "\n",
    "\n",
    "def metrics_count(view, bought):\n",
    "    \n",
    "    def metrics(v, b):\n",
    "        b = b.split(',')\n",
    "\n",
    "        appear_5 = len(set(v[:5]).intersection(b))\n",
    "\n",
    "        presicion_5 = appear_5/5\n",
    "        recall_5 = appear_5/min(5,len(b))\n",
    "        presicion_1 = int(v[0] in b)\n",
    "        recall_1 = presicion_1/len(b)\n",
    "        \n",
    "        return [recall_1, presicion_1, recall_5, presicion_5]\n",
    "\n",
    "    return map(lambda v,b: metrics(v,b), view, bought)"
   ]
  },
  {
   "cell_type": "code",
   "execution_count": 158,
   "metadata": {},
   "outputs": [],
   "source": [
    "train = pd.read_csv(\"coursera_sessions_train.txt\", sep=';', header=None, names=[\"view\", \"bought\"])\n",
    "test = pd.read_csv(\"coursera_sessions_test.txt\", sep=\";\", header=None, names=[\"view\", \"bought\"])"
   ]
  },
  {
   "cell_type": "code",
   "execution_count": 159,
   "metadata": {},
   "outputs": [
    {
     "data": {
      "text/html": [
       "<div>\n",
       "<style scoped>\n",
       "    .dataframe tbody tr th:only-of-type {\n",
       "        vertical-align: middle;\n",
       "    }\n",
       "\n",
       "    .dataframe tbody tr th {\n",
       "        vertical-align: top;\n",
       "    }\n",
       "\n",
       "    .dataframe thead th {\n",
       "        text-align: right;\n",
       "    }\n",
       "</style>\n",
       "<table border=\"1\" class=\"dataframe\">\n",
       "  <thead>\n",
       "    <tr style=\"text-align: right;\">\n",
       "      <th></th>\n",
       "      <th>view</th>\n",
       "      <th>bought</th>\n",
       "      <th>view_sorted</th>\n",
       "      <th>bought_sorted</th>\n",
       "    </tr>\n",
       "  </thead>\n",
       "  <tbody>\n",
       "    <tr>\n",
       "      <th>7</th>\n",
       "      <td>59,60,61,62,60,63,64,65,66,61,67,68,67</td>\n",
       "      <td>67,60,63</td>\n",
       "      <td>[63, 64, 60, 61, 65, 66, 67, 68, 59, 62]</td>\n",
       "      <td>[60, 63, 67, 59, 61, 62, 64, 65, 66, 68]</td>\n",
       "    </tr>\n",
       "    <tr>\n",
       "      <th>10</th>\n",
       "      <td>84,85,86,87,88,89,84,90,91,92,93,86</td>\n",
       "      <td>86</td>\n",
       "      <td>[85, 93, 89, 90, 84, 92, 86, 87, 91, 88]</td>\n",
       "      <td>[86, 85, 93, 84, 87, 88, 89, 90, 91, 92]</td>\n",
       "    </tr>\n",
       "    <tr>\n",
       "      <th>19</th>\n",
       "      <td>138,198,199,127</td>\n",
       "      <td>199</td>\n",
       "      <td>[127, 138, 198, 199]</td>\n",
       "      <td>[138, 199, 127, 198]</td>\n",
       "    </tr>\n",
       "    <tr>\n",
       "      <th>30</th>\n",
       "      <td>303,304,305,306,307,308,309,310,311,312</td>\n",
       "      <td>303</td>\n",
       "      <td>[303, 306, 304, 307, 309, 310, 305, 308, 311, ...</td>\n",
       "      <td>[303, 304, 305, 306, 307, 308, 309, 310, 311, ...</td>\n",
       "    </tr>\n",
       "    <tr>\n",
       "      <th>33</th>\n",
       "      <td>352,353,352</td>\n",
       "      <td>352</td>\n",
       "      <td>[352, 353]</td>\n",
       "      <td>[352, 353]</td>\n",
       "    </tr>\n",
       "  </tbody>\n",
       "</table>\n",
       "</div>"
      ],
      "text/plain": [
       "                                       view    bought  \\\n",
       "7    59,60,61,62,60,63,64,65,66,61,67,68,67  67,60,63   \n",
       "10      84,85,86,87,88,89,84,90,91,92,93,86        86   \n",
       "19                          138,198,199,127       199   \n",
       "30  303,304,305,306,307,308,309,310,311,312       303   \n",
       "33                              352,353,352       352   \n",
       "\n",
       "                                          view_sorted  \\\n",
       "7            [63, 64, 60, 61, 65, 66, 67, 68, 59, 62]   \n",
       "10           [85, 93, 89, 90, 84, 92, 86, 87, 91, 88]   \n",
       "19                               [127, 138, 198, 199]   \n",
       "30  [303, 306, 304, 307, 309, 310, 305, 308, 311, ...   \n",
       "33                                         [352, 353]   \n",
       "\n",
       "                                        bought_sorted  \n",
       "7            [60, 63, 67, 59, 61, 62, 64, 65, 66, 68]  \n",
       "10           [86, 85, 93, 84, 87, 88, 89, 90, 91, 92]  \n",
       "19                               [138, 199, 127, 198]  \n",
       "30  [303, 304, 305, 306, 307, 308, 309, 310, 311, ...  \n",
       "33                                         [352, 353]  "
      ]
     },
     "execution_count": 159,
     "metadata": {},
     "output_type": "execute_result"
    }
   ],
   "source": [
    "train_vfo = id_freq(train['view'])\n",
    "train_bfo = id_freq(train[\"bought\"])\n",
    "\n",
    "train_vf = id_freq(test['view'], order=False)\n",
    "train_bf = id_freq(test['bought'], order=False)\n",
    "\n",
    "train.dropna(inplace=True)\n",
    "test.dropna(inplace=True)\n",
    "\n",
    "train[\"view_sorted\"] = map(lambda x: sort_by_pop(x, train_vfo), train[\"view\"])\n",
    "test[\"view_sorted\"] = map(lambda x: sort_by_pop(x, train_vf), test[\"view\"])\n",
    "train[\"bought_sorted\"] = map(lambda x: sort_by_pop(x, train_bfo), train[\"view\"])\n",
    "test[\"bought_sorted\"] = map(lambda x: sort_by_pop(x, train_bf), test[\"view\"])\n",
    "\n",
    "train.head()"
   ]
  },
  {
   "cell_type": "code",
   "execution_count": 165,
   "metadata": {},
   "outputs": [],
   "source": [
    "train_cls = train.copy().dropna()\n",
    "test_cls = test.copy().dropna()\n",
    "\n",
    "\n",
    "train_metrics_vs = metrics_count(train_cls['view_sorted'], train_cls[\"bought\"])\n",
    "test_metrics_vs = metrics_count(test_cls[\"view_sorted\"], test_cls['bought'])\n",
    "train_metrics_bs = metrics_count(train_cls['bought_sorted'], train_cls[\"bought\"])\n",
    "test_metrics_bs = metrics_count(test_cls[\"bought_sorted\"], test_cls['bought'])"
   ]
  },
  {
   "cell_type": "code",
   "execution_count": 161,
   "metadata": {},
   "outputs": [],
   "source": [
    "answer1 = map(lambda x: str(round(x,2)),pd.DataFrame(train_metrics_vs).mean())\n",
    "answer2 = map(lambda x: str(round(x,2)),pd.DataFrame(test_metrics_vs).mean())\n",
    "answer3 = map(lambda x: str(round(x,2)),pd.DataFrame(train_metrics_bs).mean())\n",
    "answer4 = map(lambda x: str(round(x,2)),pd.DataFrame(test_metrics_bs).mean())"
   ]
  },
  {
   "cell_type": "code",
   "execution_count": 163,
   "metadata": {},
   "outputs": [],
   "source": [
    "for i,a in enumerate([answer1,answer2,answer3, answer4],1):\n",
    "    file = \"ans\" + str(i) + \".txt\"\n",
    "    with open(file, \"w\") as f:\n",
    "        f.write(\" \".join(a))"
   ]
  },
  {
   "cell_type": "code",
   "execution_count": null,
   "metadata": {},
   "outputs": [],
   "source": []
  }
 ],
 "metadata": {
  "kernelspec": {
   "display_name": "Python 2",
   "language": "python",
   "name": "python2"
  },
  "language_info": {
   "codemirror_mode": {
    "name": "ipython",
    "version": 2
   },
   "file_extension": ".py",
   "mimetype": "text/x-python",
   "name": "python",
   "nbconvert_exporter": "python",
   "pygments_lexer": "ipython2",
   "version": "2.7.15"
  }
 },
 "nbformat": 4,
 "nbformat_minor": 2
}
