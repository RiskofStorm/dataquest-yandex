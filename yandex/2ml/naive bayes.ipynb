{
 "cells": [
  {
   "cell_type": "code",
   "execution_count": 9,
   "metadata": {},
   "outputs": [],
   "source": [
    "import sklearn.datasets\n",
    "from sklearn.model_selection import cross_val_score, train_test_split\n",
    "\n",
    "\n",
    "data1 = sklearn.datasets.load_digits()\n",
    "data2 = sklearn.datasets.load_breast_cancer()"
   ]
  },
  {
   "cell_type": "code",
   "execution_count": 18,
   "metadata": {},
   "outputs": [],
   "source": [
    "(Xd_train,yd_train,\n",
    " Xd_test, yd_test) = train_test_split(data1.data, data1.target, \n",
    "                                      test_size = 0.3, random_state = 0)\n",
    "\n",
    "(Xc_train, yc_train,\n",
    " Xc_test, yc_test) = train_test_split(data2.data, data2.target,\n",
    "                                      test_size = 0.3, random_state = 0)"
   ]
  },
  {
   "cell_type": "code",
   "execution_count": 27,
   "metadata": {},
   "outputs": [
    {
     "data": {
      "text/plain": [
       "array([[ 0.,  0.,  0.,  8., 10., 14.,  3.,  0.,  0.,  1., 13., 13.,  9.,\n",
       "        12.,  8.,  0.,  0.,  6., 16.,  8.,  8., 16.,  4.,  0.,  0.,  5.,\n",
       "        16., 16., 16.,  9.,  0.,  0.,  0.,  0.,  5.,  8., 14., 12.,  0.,\n",
       "         0.,  0.,  0.,  0.,  3., 16.,  5.,  0.,  0.,  0.,  0.,  0., 15.,\n",
       "         8.,  0.,  0.,  0.,  0.,  0.,  1., 12.,  2.,  0.,  0.,  0.],\n",
       "       [ 0.,  0.,  7., 16., 12.,  1.,  0.,  0.,  0.,  0., 16., 11., 16.,\n",
       "         8.,  0.,  0.,  0.,  0.,  3.,  9., 16.,  6.,  0.,  0.,  0.,  0.,\n",
       "         0., 13., 16., 15.,  1.,  0.,  0.,  0.,  1.,  2.,  5., 14.,  8.,\n",
       "         0.,  0.,  5., 14.,  0.,  0.,  9., 15.,  0.,  0.,  4., 16.,  7.,\n",
       "         6., 13., 14.,  0.,  0.,  0.,  7., 16., 16., 16.,  4.,  0.]])"
      ]
     },
     "execution_count": 27,
     "metadata": {},
     "output_type": "execute_result"
    }
   ],
   "source": [
    "Xd_train[:2]"
   ]
  },
  {
   "cell_type": "code",
   "execution_count": 26,
   "metadata": {},
   "outputs": [
    {
     "data": {
      "text/plain": [
       "array([[1.149e+01, 1.459e+01, 7.399e+01, 4.049e+02, 1.046e-01, 8.228e-02,\n",
       "        5.308e-02, 1.969e-02, 1.779e-01, 6.574e-02, 2.034e-01, 1.166e+00,\n",
       "        1.567e+00, 1.434e+01, 4.957e-03, 2.114e-02, 4.156e-02, 8.038e-03,\n",
       "        1.843e-02, 3.614e-03, 1.240e+01, 2.190e+01, 8.204e+01, 4.676e+02,\n",
       "        1.352e-01, 2.010e-01, 2.596e-01, 7.431e-02, 2.941e-01, 9.180e-02],\n",
       "       [1.049e+01, 1.861e+01, 6.686e+01, 3.343e+02, 1.068e-01, 6.678e-02,\n",
       "        2.297e-02, 1.780e-02, 1.482e-01, 6.600e-02, 1.485e-01, 1.563e+00,\n",
       "        1.035e+00, 1.008e+01, 8.875e-03, 9.362e-03, 1.808e-02, 9.199e-03,\n",
       "        1.791e-02, 3.317e-03, 1.106e+01, 2.454e+01, 7.076e+01, 3.754e+02,\n",
       "        1.413e-01, 1.044e-01, 8.423e-02, 6.528e-02, 2.213e-01, 7.842e-02]])"
      ]
     },
     "execution_count": 26,
     "metadata": {},
     "output_type": "execute_result"
    }
   ],
   "source": [
    "Xc_train[:2]"
   ]
  },
  {
   "cell_type": "code",
   "execution_count": 29,
   "metadata": {},
   "outputs": [],
   "source": [
    "from sklearn.naive_bayes import BernoulliNB, MultinomialNB, GaussianNB\n",
    "import numpy as np\n",
    "\n",
    "def model_train_test(model):\n",
    "    digit_m = cross_val_score(model, X=data1.data, y=data1.target)\n",
    "    canser_m = cross_val_score(model, X=data2.data, y=data2.target)\n",
    "    return np.mean(digit_m), np.mean(canser_m)\n",
    "\n",
    "\n",
    "bern_ = model_train_test(BernoulliNB())\n",
    "mult_ = model_train_test(MultinomialNB())\n",
    "gaus_ = model_train_test(GaussianNB())"
   ]
  },
  {
   "cell_type": "code",
   "execution_count": 30,
   "metadata": {},
   "outputs": [
    {
     "name": "stdout",
     "output_type": "stream",
     "text": [
      "BernoulliNB : (0.8258236507780582, 0.6274204028589994)\n",
      "MultinomialNB : (0.8708771489735053, 0.8945790401930752)\n",
      "GaussianNB : (0.8186003803550138, 0.9367492806089297)\n"
     ]
    }
   ],
   "source": [
    "print(\"BernoulliNB : {}\".format(bern_))\n",
    "print(\"MultinomialNB : {}\".format(mult_))\n",
    "print(\"GaussianNB : {}\".format(gaus_))"
   ]
  },
  {
   "cell_type": "code",
   "execution_count": 36,
   "metadata": {},
   "outputs": [
    {
     "name": "stdout",
     "output_type": "stream",
     "text": [
      "0.9367492806089297\n"
     ]
    }
   ],
   "source": [
    "def write_ans(ans, numb):\n",
    "    file = \"ans\" + str(numb) + \".txt\"\n",
    "    with open(file,\"w\") as fout:\n",
    "        fout.write(str(ans))\n",
    "        \n",
    "\n",
    "first_answer = np.c_[bern_[1],mult_[1],gaus_[1]].max()\n",
    "write_ans(first_answer,1)\n",
    "print(first_answer)"
   ]
  },
  {
   "cell_type": "code",
   "execution_count": 37,
   "metadata": {},
   "outputs": [
    {
     "name": "stdout",
     "output_type": "stream",
     "text": [
      "0.8708771489735053\n"
     ]
    }
   ],
   "source": [
    "second_answer = np.c_[bern_[0],mult_[0],gaus_[0]].max()\n",
    "write_ans(second_answer,2)\n",
    "print(second_answer)"
   ]
  },
  {
   "cell_type": "markdown",
   "metadata": {},
   "source": [
    "Выберите верные утверждения и запишите их номера через пробел (в порядке возрастания номера):\n",
    "\n",
    "${~}$\n",
    "\n",
    "1) На вещественных признаках лучше всего сработал наивный байесовский классификатор с распределением Бернулли\n",
    "\n",
    "2) На вещественных признаках лучше всего сработал наивный байесовский классификатор с мультиномиальным распределением\n",
    "\n",
    "3) Мультиномиальное распределение лучше показало себя на выборке с целыми неотрицательными значениями признаков\n",
    "\n",
    "4) На вещественных признаках лучше всего сработало нормальное распределение"
   ]
  },
  {
   "cell_type": "code",
   "execution_count": 39,
   "metadata": {},
   "outputs": [
    {
     "name": "stdout",
     "output_type": "stream",
     "text": [
      "3 4\n"
     ]
    }
   ],
   "source": [
    "third_answer = \" \".join(map(str,[3,4]))\n",
    "write_ans(third_answer,3)\n",
    "print(third_answer)"
   ]
  },
  {
   "cell_type": "code",
   "execution_count": null,
   "metadata": {},
   "outputs": [],
   "source": []
  }
 ],
 "metadata": {
  "kernelspec": {
   "display_name": "Python 2",
   "language": "python",
   "name": "python2"
  },
  "language_info": {
   "codemirror_mode": {
    "name": "ipython",
    "version": 2
   },
   "file_extension": ".py",
   "mimetype": "text/x-python",
   "name": "python",
   "nbconvert_exporter": "python",
   "pygments_lexer": "ipython2",
   "version": "2.7.15"
  }
 },
 "nbformat": 4,
 "nbformat_minor": 2
}
