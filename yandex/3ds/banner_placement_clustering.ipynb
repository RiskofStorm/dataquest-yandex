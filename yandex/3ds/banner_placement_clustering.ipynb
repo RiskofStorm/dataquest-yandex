{
 "cells": [
  {
   "cell_type": "code",
   "execution_count": 1,
   "metadata": {},
   "outputs": [
    {
     "name": "stdout",
     "output_type": "stream",
     "text": [
      "Populating the interactive namespace from numpy and matplotlib\n"
     ]
    }
   ],
   "source": [
    "import pandas as pd\n",
    "%pylab inline"
   ]
  },
  {
   "cell_type": "markdown",
   "metadata": {},
   "source": [
    "Представим, что международное круизное агентство Carnival Cruise Line решило себя разрекламировать с помощью баннеров и обратилось для этого к вам. Чтобы протестировать, велика ли от таких баннеров польза, их будет размещено всего 20 штук по всему миру. Вам надо выбрать 20 таких локаций для размещения, чтобы польза была большой и агентство продолжило с вами сотрудничать.\n",
    "\n",
    "Агентство крупное, и у него есть несколько офисов по всему миру. Вблизи этих офисов оно и хочет разместить баннеры — легче договариваться и проверять результат. Также эти места должны быть популярны среди туристов.\n",
    "\n",
    "Для поиска оптимальных мест воспользуемся базой данных крупнейшей социальной сети, основанной на локациях — Foursquare.\n",
    "\n",
    "Нас будет интересовать файл checkins.dat. Открыв его, увидим следующую структуру:  \n",
    "Для удобной работы с этим документом преобразуем его к формату csv, удалив строки, не содержащие координат — они неинформативны для нас:"
   ]
  },
  {
   "cell_type": "markdown",
   "metadata": {},
   "source": [
    "id,user_id,venue_id,latitude,longitude,created_at\n",
    "\n",
    "984222,15824,5222,38.8951118,-77.0363658,2012-04-21T17:43:47\n",
    "\n",
    "984234,44652,5222,33.800745,-84.41052,2012-04-21T17:43:43\n",
    "\n",
    "984291,105054,5222,45.5234515,-122.6762071,2012-04-21T17:39:22"
   ]
  },
  {
   "cell_type": "code",
   "execution_count": 2,
   "metadata": {},
   "outputs": [
    {
     "name": "stderr",
     "output_type": "stream",
     "text": [
      "/home/storm/anaconda3/envs/ipykernel_py2/lib/python2.7/site-packages/IPython/core/interactiveshell.py:2714: DtypeWarning: Columns (0) have mixed types. Specify dtype option on import or set low_memory=False.\n",
      "  interactivity=interactivity, compiler=compiler, result=result)\n"
     ]
    }
   ],
   "source": [
    "data = pd.read_csv(\"/home/storm/Datasets/fsq/umn_foursquare_datasets/checkins.dat\", sep=\"|\")[3:]"
   ]
  },
  {
   "cell_type": "code",
   "execution_count": 3,
   "metadata": {},
   "outputs": [
    {
     "name": "stdout",
     "output_type": "stream",
     "text": [
      "(100000, 6)\n"
     ]
    },
    {
     "data": {
      "text/html": [
       "<div>\n",
       "<style scoped>\n",
       "    .dataframe tbody tr th:only-of-type {\n",
       "        vertical-align: middle;\n",
       "    }\n",
       "\n",
       "    .dataframe tbody tr th {\n",
       "        vertical-align: top;\n",
       "    }\n",
       "\n",
       "    .dataframe thead th {\n",
       "        text-align: right;\n",
       "    }\n",
       "</style>\n",
       "<table border=\"1\" class=\"dataframe\">\n",
       "  <thead>\n",
       "    <tr style=\"text-align: right;\">\n",
       "      <th></th>\n",
       "      <th>id</th>\n",
       "      <th>user_id</th>\n",
       "      <th>venue_id</th>\n",
       "      <th>latitude</th>\n",
       "      <th>longitude</th>\n",
       "      <th>created_at</th>\n",
       "    </tr>\n",
       "  </thead>\n",
       "  <tbody>\n",
       "    <tr>\n",
       "      <th>4</th>\n",
       "      <td>984234</td>\n",
       "      <td>44652.0</td>\n",
       "      <td>5222.0</td>\n",
       "      <td>33.800745</td>\n",
       "      <td>-84.41052</td>\n",
       "      <td>2012-04-21 17:43:43</td>\n",
       "    </tr>\n",
       "    <tr>\n",
       "      <th>8</th>\n",
       "      <td>984291</td>\n",
       "      <td>105054.0</td>\n",
       "      <td>5222.0</td>\n",
       "      <td>45.5234515</td>\n",
       "      <td>-122.6762071</td>\n",
       "      <td>2012-04-21 17:39:22</td>\n",
       "    </tr>\n",
       "    <tr>\n",
       "      <th>10</th>\n",
       "      <td>984318</td>\n",
       "      <td>2146539.0</td>\n",
       "      <td>5222.0</td>\n",
       "      <td>40.764462</td>\n",
       "      <td>-111.904565</td>\n",
       "      <td>2012-04-21 17:35:46</td>\n",
       "    </tr>\n",
       "    <tr>\n",
       "      <th>11</th>\n",
       "      <td>984232</td>\n",
       "      <td>93870.0</td>\n",
       "      <td>380645.0</td>\n",
       "      <td>33.4483771</td>\n",
       "      <td>-112.0740373</td>\n",
       "      <td>2012-04-21 17:38:18</td>\n",
       "    </tr>\n",
       "    <tr>\n",
       "      <th>12</th>\n",
       "      <td>984483</td>\n",
       "      <td>1030290.0</td>\n",
       "      <td>955969.0</td>\n",
       "      <td>32.2217429</td>\n",
       "      <td>-110.926479</td>\n",
       "      <td>2012-04-21 17:58:54</td>\n",
       "    </tr>\n",
       "  </tbody>\n",
       "</table>\n",
       "</div>"
      ],
      "text/plain": [
       "           id    user_id  venue_id             latitude            longitude  \\\n",
       "4     984234     44652.0    5222.0           33.800745            -84.41052    \n",
       "8     984291    105054.0    5222.0          45.5234515         -122.6762071    \n",
       "10    984318   2146539.0    5222.0           40.764462          -111.904565    \n",
       "11    984232     93870.0  380645.0          33.4483771         -112.0740373    \n",
       "12    984483   1030290.0  955969.0          32.2217429          -110.926479    \n",
       "\n",
       "              created_at  \n",
       "4    2012-04-21 17:43:43  \n",
       "8    2012-04-21 17:39:22  \n",
       "10   2012-04-21 17:35:46  \n",
       "11   2012-04-21 17:38:18  \n",
       "12   2012-04-21 17:58:54  "
      ]
     },
     "execution_count": 3,
     "metadata": {},
     "output_type": "execute_result"
    }
   ],
   "source": [
    "data.columns = [i.strip() for i in data.columns]\n",
    "data[\"latitude\"].replace(' ' * 19, np.nan, inplace = True)\n",
    "data[\"longitude\"].replace(' ' * 19, np.nan, inplace = True)\n",
    "data.dropna(inplace=True)\n",
    "\n",
    "sub_data = data[:100000]\n",
    "del data\n",
    "\n",
    "print(sub_data.shape)\n",
    "sub_data.head()"
   ]
  },
  {
   "cell_type": "markdown",
   "metadata": {},
   "source": [
    "Теперь необходимо кластеризовать данные координаты, чтобы выявить центры скоплений туристов. Поскольку баннеры имеют сравнительно небольшую площадь действия, нам нужен алгоритм, позволяющий ограничить размер кластера и не зависящий от количества кластеров.\n",
    "\n",
    "Эта задача — хороший повод познакомиться с алгоритмом MeanShift, который мы обошли стороной в основной части лекций. Его описание при желании можно посмотреть в sklearn user guide, а чуть позже появится дополнительное видео с обзором этого и некоторых других алгоритмов кластеризации. Используйте MeanShift, указав bandwidth=0.1, что в переводе из градусов в метры колеблется примерно от 5 до 10 км в средних широтах."
   ]
  },
  {
   "cell_type": "code",
   "execution_count": 4,
   "metadata": {},
   "outputs": [
    {
     "data": {
      "text/plain": [
       "MeanShift(bandwidth=0.1, bin_seeding=False, cluster_all=True, min_bin_freq=1,\n",
       "     n_jobs=None, seeds=None)"
      ]
     },
     "execution_count": 4,
     "metadata": {},
     "output_type": "execute_result"
    }
   ],
   "source": [
    "from sklearn.cluster import MeanShift\n",
    "\n",
    "longlat_ = sub_data[[\"latitude\", \"longitude\"]]\n",
    "cluster = MeanShift(bandwidth=0.1)\n",
    "cluster.fit(longlat_)"
   ]
  },
  {
   "cell_type": "markdown",
   "metadata": {},
   "source": [
    "Некоторые из получившихся кластеров содержат слишком мало точек — такие кластеры не интересны рекламодателям. Поэтому надо определить, какие из кластеров содержат, скажем, больше 15 элементов. Центры этих кластеров и являются оптимальными для размещения.\n",
    "\n",
    "При желании увидеть получившиеся результаты на карте можно передать центры получившихся кластеров в один из инструментов визуализации. Например, сайт mapcustomizer.com имеет функцию Bulk Entry, куда можно вставить центры полученных кластеров в формате:  \n",
    "\n",
    "38.8951118,-77.0363658\n",
    "\n",
    "33.800745,-84.41052\n",
    "\n",
    "45.5234515,-122.6762071\n"
   ]
  },
  {
   "cell_type": "markdown",
   "metadata": {},
   "source": [
    "  \n",
    "  \n",
    "Как мы помним, 20 баннеров надо разместить близ офисов компании. Найдем на Google Maps по запросу Carnival Cruise Line адреса всех офисов:\n",
    "\n",
    "33.751277, -118.188740 (Los Angeles)\n",
    "\n",
    "25.867736, -80.324116 (Miami)\n",
    "\n",
    "51.503016, -0.075479 (London)\n",
    "\n",
    "52.378894, 4.885084 (Amsterdam)\n",
    "\n",
    "39.366487, 117.036146 (Beijing)\n",
    "\n",
    "-33.868457, 151.205134 (Sydney)"
   ]
  },
  {
   "cell_type": "code",
   "execution_count": 5,
   "metadata": {},
   "outputs": [],
   "source": [
    "centers = cluster.cluster_centers_\n",
    "cities = np.array([[33.751277, -118.188740], \n",
    "                   [25.867736, -80.324116],\n",
    "                   [51.503016, -0.075479],\n",
    "                   [52.378894, 4.885084],\n",
    "                   [39.366487, 117.036146], \n",
    "                   [-33.868457, 151.205134]])\n",
    "\n",
    "labels = cluster.labels_\n",
    "unique_labels = np.unique(cluster.labels_)\n",
    "\n",
    "n_clusters = len(unique_labels)\n",
    "count_labels = dict()"
   ]
  },
  {
   "cell_type": "code",
   "execution_count": 6,
   "metadata": {},
   "outputs": [],
   "source": [
    "for i in range(len(labels)):\n",
    "    if count_labels.has_key(labels[i]):\n",
    "        count_labels[labels[i]] += 1\n",
    "    else:\n",
    "        count_labels[labels[i]] = 1"
   ]
  },
  {
   "cell_type": "code",
   "execution_count": 7,
   "metadata": {},
   "outputs": [],
   "source": [
    "int_labels = [l for l in unique_labels if count_labels[l] > 16]\n",
    "geo_pts = np.array([centers[i] for i in range(len(centers)) if int_labels.count(labels[i]) > 0])"
   ]
  },
  {
   "cell_type": "code",
   "execution_count": 8,
   "metadata": {},
   "outputs": [],
   "source": [
    "best_dist = list()\n",
    "for g in geo_pts:\n",
    "    dist = np.inf\n",
    "    for c in cities:\n",
    "        c_dist = abs(g[0]-c[0]) + abs(g[1] - c[1])\n",
    "        if dist > c_dist:\n",
    "            dist = c_dist\n",
    "    best_dist.append(dist)\n",
    "\n",
    "best_dist = np.array(best_dist)\n",
    "indexes = np.argsort(best_dist)[:20]"
   ]
  },
  {
   "cell_type": "code",
   "execution_count": 9,
   "metadata": {},
   "outputs": [
    {
     "name": "stdout",
     "output_type": "stream",
     "text": [
      "[-33.86063043 151.20477593]\n",
      "[52.37296399  4.89231722]\n",
      "[ 25.84567226 -80.3188906 ]\n",
      "[51.50299126 -0.12553729]\n",
      "[  33.80987796 -118.14892381]\n",
      "[ 25.78581242 -80.21793804]\n",
      "[ 25.70534972 -80.28342874]\n",
      "[-34.00190615 151.12806905]\n",
      "[  33.97257482 -118.16837067]\n",
      "[-33.9522629 151.0321372]\n",
      "[ 26.01009825 -80.19999059]\n",
      "[  33.88832534 -118.04892817]\n",
      "[ 26.13884379 -80.33434684]\n",
      "[51.50647877 -0.36517727]\n",
      "[  33.87298601 -118.36209115]\n",
      "[51.42676329 -0.30373207]\n",
      "[51.5741517  0.1838708]\n",
      "[  33.81730643 -117.89124917]\n",
      "[52.2644  4.6347]\n",
      "[  34.06039755 -118.24870903]\n"
     ]
    }
   ],
   "source": [
    "for data in geo_pts[indexes]:\n",
    "    print(data)"
   ]
  },
  {
   "cell_type": "code",
   "execution_count": 10,
   "metadata": {},
   "outputs": [],
   "source": [
    "with open(\"ans.txt\", \"w\") as fout:\n",
    "    fout.write(\"-33.86063043 151.20477593\")"
   ]
  }
 ],
 "metadata": {
  "kernelspec": {
   "display_name": "Python 2",
   "language": "python",
   "name": "python2"
  },
  "language_info": {
   "codemirror_mode": {
    "name": "ipython",
    "version": 2
   },
   "file_extension": ".py",
   "mimetype": "text/x-python",
   "name": "python",
   "nbconvert_exporter": "python",
   "pygments_lexer": "ipython2",
   "version": "2.7.15"
  }
 },
 "nbformat": 4,
 "nbformat_minor": 2
}
