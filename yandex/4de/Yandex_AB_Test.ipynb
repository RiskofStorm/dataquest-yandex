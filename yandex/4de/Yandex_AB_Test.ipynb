{
 "cells": [
  {
   "cell_type": "code",
   "execution_count": 30,
   "metadata": {},
   "outputs": [
    {
     "name": "stdout",
     "output_type": "stream",
     "text": [
      "Populating the interactive namespace from numpy and matplotlib\n"
     ]
    }
   ],
   "source": [
    "from __future__ import division\n",
    "from sys import getsizeof\n",
    "import gc\n",
    "\n",
    "import pandas as pd\n",
    "from statsmodels.sandbox.stats.multicomp import multipletests \n",
    "import scipy.stats as sts\n",
    "\n",
    "%pylab inline"
   ]
  },
  {
   "cell_type": "code",
   "execution_count": 31,
   "metadata": {},
   "outputs": [
    {
     "data": {
      "text/html": [
       "<div>\n",
       "<style scoped>\n",
       "    .dataframe tbody tr th:only-of-type {\n",
       "        vertical-align: middle;\n",
       "    }\n",
       "\n",
       "    .dataframe tbody tr th {\n",
       "        vertical-align: top;\n",
       "    }\n",
       "\n",
       "    .dataframe thead th {\n",
       "        text-align: right;\n",
       "    }\n",
       "</style>\n",
       "<table border=\"1\" class=\"dataframe\">\n",
       "  <thead>\n",
       "    <tr style=\"text-align: right;\">\n",
       "      <th></th>\n",
       "      <th>userID</th>\n",
       "      <th>browser</th>\n",
       "      <th>slot</th>\n",
       "      <th>n_clicks</th>\n",
       "      <th>n_queries</th>\n",
       "      <th>n_nonclk_queries</th>\n",
       "    </tr>\n",
       "  </thead>\n",
       "  <tbody>\n",
       "    <tr>\n",
       "      <th>0</th>\n",
       "      <td>1</td>\n",
       "      <td>Browser #2</td>\n",
       "      <td>exp</td>\n",
       "      <td>23</td>\n",
       "      <td>32</td>\n",
       "      <td>19</td>\n",
       "    </tr>\n",
       "    <tr>\n",
       "      <th>1</th>\n",
       "      <td>3</td>\n",
       "      <td>Browser #4</td>\n",
       "      <td>exp</td>\n",
       "      <td>3</td>\n",
       "      <td>4</td>\n",
       "      <td>2</td>\n",
       "    </tr>\n",
       "    <tr>\n",
       "      <th>2</th>\n",
       "      <td>5</td>\n",
       "      <td>Browser #4</td>\n",
       "      <td>exp</td>\n",
       "      <td>29</td>\n",
       "      <td>35</td>\n",
       "      <td>16</td>\n",
       "    </tr>\n",
       "    <tr>\n",
       "      <th>3</th>\n",
       "      <td>6</td>\n",
       "      <td>Browser #4</td>\n",
       "      <td>control</td>\n",
       "      <td>12</td>\n",
       "      <td>6</td>\n",
       "      <td>0</td>\n",
       "    </tr>\n",
       "    <tr>\n",
       "      <th>4</th>\n",
       "      <td>7</td>\n",
       "      <td>Browser #4</td>\n",
       "      <td>exp</td>\n",
       "      <td>54</td>\n",
       "      <td>68</td>\n",
       "      <td>30</td>\n",
       "    </tr>\n",
       "  </tbody>\n",
       "</table>\n",
       "</div>"
      ],
      "text/plain": [
       "   userID     browser     slot  n_clicks  n_queries  n_nonclk_queries\n",
       "0       1  Browser #2      exp        23         32                19\n",
       "1       3  Browser #4      exp         3          4                 2\n",
       "2       5  Browser #4      exp        29         35                16\n",
       "3       6  Browser #4  control        12          6                 0\n",
       "4       7  Browser #4      exp        54         68                30"
      ]
     },
     "execution_count": 31,
     "metadata": {},
     "output_type": "execute_result"
    }
   ],
   "source": [
    "data = pd.read_csv(\"ab_browser_test.csv\")\n",
    "data.head()"
   ]
  },
  {
   "cell_type": "code",
   "execution_count": 32,
   "metadata": {},
   "outputs": [],
   "source": [
    "import math\n",
    "\n",
    "def convert_size(size_bytes):\n",
    "    if size_bytes == 0:\n",
    "        return \"0B\"\n",
    "    size_name = (\"B\", \"KB\", \"MB\", \"GB\", \"TB\", \"PB\", \"EB\", \"ZB\", \"YB\")\n",
    "    i = int(math.floor(math.log(size_bytes, 1024)))\n",
    "    p = math.pow(1024, i)\n",
    "    s = round(size_bytes / p, 2)\n",
    "    return \"%s %s\" % (s, size_name[i])"
   ]
  },
  {
   "cell_type": "code",
   "execution_count": 33,
   "metadata": {},
   "outputs": [
    {
     "name": "stdout",
     "output_type": "stream",
     "text": [
      "<class 'pandas.core.frame.DataFrame'>\n",
      "RangeIndex: 566134 entries, 0 to 566133\n",
      "Data columns (total 6 columns):\n",
      "userID              566134 non-null int64\n",
      "browser             566134 non-null object\n",
      "slot                566134 non-null object\n",
      "n_clicks            566134 non-null int64\n",
      "n_queries           566134 non-null int64\n",
      "n_nonclk_queries    566134 non-null int64\n",
      "dtypes: int64(4), object(2)\n",
      "memory usage: 25.9+ MB\n"
     ]
    }
   ],
   "source": [
    "data.info()"
   ]
  },
  {
   "cell_type": "code",
   "execution_count": 34,
   "metadata": {},
   "outputs": [
    {
     "data": {
      "text/html": [
       "<div>\n",
       "<style scoped>\n",
       "    .dataframe tbody tr th:only-of-type {\n",
       "        vertical-align: middle;\n",
       "    }\n",
       "\n",
       "    .dataframe tbody tr th {\n",
       "        vertical-align: top;\n",
       "    }\n",
       "\n",
       "    .dataframe thead th {\n",
       "        text-align: right;\n",
       "    }\n",
       "</style>\n",
       "<table border=\"1\" class=\"dataframe\">\n",
       "  <thead>\n",
       "    <tr style=\"text-align: right;\">\n",
       "      <th></th>\n",
       "      <th>userID</th>\n",
       "      <th>n_clicks</th>\n",
       "      <th>n_queries</th>\n",
       "      <th>n_nonclk_queries</th>\n",
       "    </tr>\n",
       "  </thead>\n",
       "  <tbody>\n",
       "    <tr>\n",
       "      <th>count</th>\n",
       "      <td>566134.000000</td>\n",
       "      <td>566134.000000</td>\n",
       "      <td>566134.000000</td>\n",
       "      <td>566134.000000</td>\n",
       "    </tr>\n",
       "    <tr>\n",
       "      <th>mean</th>\n",
       "      <td>301377.214027</td>\n",
       "      <td>11.431658</td>\n",
       "      <td>10.720524</td>\n",
       "      <td>4.703987</td>\n",
       "    </tr>\n",
       "    <tr>\n",
       "      <th>std</th>\n",
       "      <td>175526.333101</td>\n",
       "      <td>20.251494</td>\n",
       "      <td>16.262827</td>\n",
       "      <td>8.109958</td>\n",
       "    </tr>\n",
       "    <tr>\n",
       "      <th>min</th>\n",
       "      <td>1.000000</td>\n",
       "      <td>0.000000</td>\n",
       "      <td>1.000000</td>\n",
       "      <td>0.000000</td>\n",
       "    </tr>\n",
       "    <tr>\n",
       "      <th>25%</th>\n",
       "      <td>148627.250000</td>\n",
       "      <td>1.000000</td>\n",
       "      <td>2.000000</td>\n",
       "      <td>1.000000</td>\n",
       "    </tr>\n",
       "    <tr>\n",
       "      <th>50%</th>\n",
       "      <td>299362.500000</td>\n",
       "      <td>4.000000</td>\n",
       "      <td>5.000000</td>\n",
       "      <td>2.000000</td>\n",
       "    </tr>\n",
       "    <tr>\n",
       "      <th>75%</th>\n",
       "      <td>455698.750000</td>\n",
       "      <td>13.000000</td>\n",
       "      <td>13.000000</td>\n",
       "      <td>6.000000</td>\n",
       "    </tr>\n",
       "    <tr>\n",
       "      <th>max</th>\n",
       "      <td>603137.000000</td>\n",
       "      <td>863.000000</td>\n",
       "      <td>665.000000</td>\n",
       "      <td>581.000000</td>\n",
       "    </tr>\n",
       "  </tbody>\n",
       "</table>\n",
       "</div>"
      ],
      "text/plain": [
       "              userID       n_clicks      n_queries  n_nonclk_queries\n",
       "count  566134.000000  566134.000000  566134.000000     566134.000000\n",
       "mean   301377.214027      11.431658      10.720524          4.703987\n",
       "std    175526.333101      20.251494      16.262827          8.109958\n",
       "min         1.000000       0.000000       1.000000          0.000000\n",
       "25%    148627.250000       1.000000       2.000000          1.000000\n",
       "50%    299362.500000       4.000000       5.000000          2.000000\n",
       "75%    455698.750000      13.000000      13.000000          6.000000\n",
       "max    603137.000000     863.000000     665.000000        581.000000"
      ]
     },
     "execution_count": 34,
     "metadata": {},
     "output_type": "execute_result"
    }
   ],
   "source": [
    "data.describe()"
   ]
  },
  {
   "cell_type": "code",
   "execution_count": 35,
   "metadata": {},
   "outputs": [
    {
     "data": {
      "text/plain": [
       "array(['Browser #2', 'Browser #4', 'Browser #14', 'Browser #17',\n",
       "       'Browser #20', 'Browser #22'], dtype=object)"
      ]
     },
     "execution_count": 35,
     "metadata": {},
     "output_type": "execute_result"
    }
   ],
   "source": [
    "data.browser.unique()"
   ]
  },
  {
   "cell_type": "code",
   "execution_count": 36,
   "metadata": {},
   "outputs": [],
   "source": [
    "control =  data[data[\"slot\"]==\"control\"].copy()\n",
    "exp = data[data[\"slot\"]== \"exp\"].copy()"
   ]
  },
  {
   "cell_type": "code",
   "execution_count": 37,
   "metadata": {},
   "outputs": [
    {
     "data": {
      "text/plain": [
       "1.614"
      ]
     },
     "execution_count": 37,
     "metadata": {},
     "output_type": "execute_result"
    }
   ],
   "source": [
    "round(abs((control[\"n_clicks\"].sum()-exp[\"n_clicks\"].sum()) / control[\"n_clicks\"].sum())* 100, 3) "
   ]
  },
  {
   "cell_type": "code",
   "execution_count": 55,
   "metadata": {},
   "outputs": [
    {
     "data": {
      "text/plain": [
       "10000"
      ]
     },
     "execution_count": 55,
     "metadata": {},
     "output_type": "execute_result"
    }
   ],
   "source": [
    "def get_bootstrap_samples(data, n_samples):\n",
    "    indices = np.random.randint(0, len(data), (n_samples, len(data)))\n",
    "    samples = data[indices]\n",
    "    return samples\n",
    "\n",
    "def stat_intervals(stat, alpha):\n",
    "    boundaries = np.percentile(stat, [100 * alpha / 2., 100 * (1 - alpha / 2.)])\n",
    "    return boundaries\n",
    "len(n_boot_samples[1])"
   ]
  },
  {
   "cell_type": "code",
   "execution_count": 56,
   "metadata": {},
   "outputs": [
    {
     "name": "stdout",
     "output_type": "stream",
     "text": [
      "95% confidence interval for median [-1. -1.]\n"
     ]
    }
   ],
   "source": [
    "np.random.seed(0)\n",
    "\n",
    "exp_median = np.array(map(np.median, get_bootstrap_samples(exp[\"n_clicks\"].values, 500)))\n",
    "control_median = np.array(map(np.median, get_bootstrap_samples(control[\"n_clicks\"].values, 500)))\n",
    "\n",
    "print \"95% confidence interval for median\",  stat_intervals(control_median-exp_median, 0.05)"
   ]
  },
  {
   "cell_type": "code",
   "execution_count": 57,
   "metadata": {},
   "outputs": [
    {
     "name": "stdout",
     "output_type": "stream",
     "text": [
      "95% confidence interval for  mean [-0.40496719 -0.19960335]\n"
     ]
    }
   ],
   "source": [
    "np.random.seed(0)\n",
    "\n",
    "exp_mean = np.array(map(np.mean, get_bootstrap_samples(exp[\"n_clicks\"].values, 500)))\n",
    "control_mean = np.array(map(np.mean, get_bootstrap_samples(control[\"n_clicks\"].values, 500)))\n",
    "\n",
    "\n",
    "print \"95% confidence interval for  mean\",  stat_intervals(control_mean-exp_mean, 0.05)"
   ]
  },
  {
   "cell_type": "code",
   "execution_count": 58,
   "metadata": {},
   "outputs": [],
   "source": [
    "np.random.seed(0)\n",
    "n_boot_samples = get_bootstrap_samples(control[\"n_clicks\"].values, 500)"
   ]
  },
  {
   "cell_type": "code",
   "execution_count": 42,
   "metadata": {},
   "outputs": [
    {
     "data": {
      "text/plain": [
       "0.0372530072927475"
      ]
     },
     "execution_count": 42,
     "metadata": {},
     "output_type": "execute_result"
    }
   ],
   "source": [
    "getsizeof(n_boot_samples)/(1024**3)\n",
    "# del n_boot_samples\n",
    "# gc.collect()"
   ]
  },
  {
   "cell_type": "code",
   "execution_count": 43,
   "metadata": {},
   "outputs": [
    {
     "data": {
      "text/plain": [
       "'38.15 MB'"
      ]
     },
     "execution_count": 43,
     "metadata": {},
     "output_type": "execute_result"
    }
   ],
   "source": [
    "from multiprocessing import Pool\n",
    "\n",
    "def n_processing(data):\n",
    "    n_bs = np.array_split(data, 3)\n",
    "    \n",
    "    def pre_proc(n):\n",
    "        iter_mean = n.mean()\n",
    "        mse = sum(map(lambda x: (x - iter_mean)**2, n))\n",
    "        return (iter_mean, mse)\n",
    "    pool = Pool(3)\n",
    "    gather_data = pool.map(pre_proc, n_bs)\n",
    "    pool.close()\n",
    "    pool.join()\n",
    "\n",
    "    return gather_data\n",
    "\n",
    "# control_boot_chi_squared = n_processing(n_boot_samples)\n",
    "convert_size(getsizeof(n_boot_samples)) "
   ]
  },
  {
   "cell_type": "code",
   "execution_count": 44,
   "metadata": {},
   "outputs": [],
   "source": [
    "\n",
    "n_mean = list()\n",
    "control_boot_chi_squared = list()\n",
    "\n",
    "for sample in  n_boot_samples:\n",
    "    iter_mean = sample.mean()\n",
    "#     var = sample.var()\n",
    "#     n = sample.shape[0]\n",
    "    n_mean.append(iter_mean)\n",
    "    control_boot_chi_squared.append(sum(map(lambda x:  (x - iter_mean)**2, sample)))"
   ]
  },
  {
   "cell_type": "code",
   "execution_count": 45,
   "metadata": {},
   "outputs": [
    {
     "data": {
      "text/plain": [
       "(0.20147153668260048, -89.25441040461764, 0.9977575271525095)"
      ]
     },
     "execution_count": 45,
     "metadata": {},
     "output_type": "execute_result"
    },
    {
     "data": {
      "image/png": "[encoded data removed]",
      "text/plain": [
       "<Figure size 432x288 with 1 Axes>"
      ]
     },
     "metadata": {
      "needs_background": "light"
     },
     "output_type": "display_data"
    }
   ],
   "source": [
    "sts.probplot(n_mean, dist=\"norm\", sparams=(len(n_mean)-1), plot=plt)[1]\n",
    "# show(block=False)"
   ]
  },
  {
   "cell_type": "code",
   "execution_count": 46,
   "metadata": {},
   "outputs": [
    {
     "data": {
      "text/plain": [
       "(11284.231661111296, -1514474.8328477093, 0.9867827295447703)"
      ]
     },
     "execution_count": 46,
     "metadata": {},
     "output_type": "execute_result"
    },
    {
     "data": {
      "image/png": "[encoded data removed]",
      "text/plain": [
       "<Figure size 432x288 with 1 Axes>"
      ]
     },
     "metadata": {
      "needs_background": "light"
     },
     "output_type": "display_data"
    }
   ],
   "source": [
    "# ??sts.probplot(control_boot_chi_squared, dist=\"chi2\", sparams=(len(control_boot_chi_squared)-1), plot=plt)\n",
    "sts.probplot(control_boot_chi_squared, dist=\"chi2\", sparams=(len(control_boot_chi_squared)-1), plot=plt)[1]"
   ]
  },
  {
   "cell_type": "code",
   "execution_count": 74,
   "metadata": {},
   "outputs": [],
   "source": [
    "control_sum = control.groupby('userID')['n_clicks'].agg(np.sum)"
   ]
  },
  {
   "cell_type": "code",
   "execution_count": 75,
   "metadata": {},
   "outputs": [
    {
     "data": {
      "text/plain": [
       "userID\n",
       "1    23\n",
       "3     3\n",
       "5    29\n",
       "7    54\n",
       "9     6\n",
       "Name: n_clicks, dtype: int64"
      ]
     },
     "execution_count": 75,
     "metadata": {},
     "output_type": "execute_result"
    }
   ],
   "source": [
    "exp_sum = exp.groupby('userID')['n_clicks'].agg(np.sum)\n",
    "exp_sum[:5]"
   ]
  },
  {
   "cell_type": "code",
   "execution_count": 76,
   "metadata": {},
   "outputs": [
    {
     "data": {
      "text/plain": [
       "MannwhitneyuResult(statistic=38901259929.0, pvalue=8.694294377520879e-75)"
      ]
     },
     "execution_count": 76,
     "metadata": {},
     "output_type": "execute_result"
    }
   ],
   "source": [
    "sts.mannwhitneyu(control_sum, exp_sum, use_continuity=True,alternative=\"two-sided\")"
   ]
  },
  {
   "cell_type": "code",
   "execution_count": 50,
   "metadata": {
    "slideshow": {
     "slide_type": "-"
    }
   },
   "outputs": [],
   "source": [
    "browsers = control[\"browser\"].unique()\n",
    "browser_pvalues = list()\n",
    "for brws in browsers:\n",
    "    ctrl_ = control[control[\"browser\"]== brws][\"n_clicks\"]\n",
    "    exp_ = exp[exp[\"browser\"]== brws][\"n_clicks\"]\n",
    "    browser_pvalues.append(sts.mannwhitneyu(ctrl_, exp_, alternative=\"two-sided\")[1])\n"
   ]
  },
  {
   "cell_type": "code",
   "execution_count": 51,
   "metadata": {},
   "outputs": [
    {
     "data": {
      "text/plain": [
       "[('Browser #4', False),\n",
       " ('Browser #14', True),\n",
       " ('Browser #2', False),\n",
       " ('Browser #20', False),\n",
       " ('Browser #22', False),\n",
       " ('Browser #17', False)]"
      ]
     },
     "execution_count": 51,
     "metadata": {},
     "output_type": "execute_result"
    }
   ],
   "source": [
    "mlp_test = zip(control[\"browser\"].unique(), multipletests(browser_pvalues, alpha = 0.05, method = 'bonferroni')[0])\n",
    "mlp_test"
   ]
  },
  {
   "cell_type": "code",
   "execution_count": 52,
   "metadata": {},
   "outputs": [],
   "source": [
    "# only one browser - #14 has pronounced difference between control and experiment groups. Looks like new feature effects different only in #14"
   ]
  },
  {
   "cell_type": "code",
   "execution_count": 53,
   "metadata": {},
   "outputs": [],
   "source": [
    "ctrl_browser_no_clics = list()\n",
    "exp_browser_no_clics = list()\n",
    "for brws in browsers:\n",
    "    overall = control[control[\"browser\"] == brws][\"n_queries\"].sum()\n",
    "    ctrl_ = control[control[\"browser\"] == brws][\"n_nonclk_queries\"].sum()\n",
    "    exp_ =  exp[exp[\"browser\"]== brws][\"n_nonclk_queries\"].sum()\n",
    "    ctrl_browser_no_clics.append(ctrl_ / overall * 100)\n",
    "    exp_browser_no_clics.append(exp_ / overall * 100)\n",
    "    "
   ]
  },
  {
   "cell_type": "code",
   "execution_count": 54,
   "metadata": {},
   "outputs": [
    {
     "data": {
      "text/html": [
       "<div>\n",
       "<style scoped>\n",
       "    .dataframe tbody tr th:only-of-type {\n",
       "        vertical-align: middle;\n",
       "    }\n",
       "\n",
       "    .dataframe tbody tr th {\n",
       "        vertical-align: top;\n",
       "    }\n",
       "\n",
       "    .dataframe thead th {\n",
       "        text-align: right;\n",
       "    }\n",
       "</style>\n",
       "<table border=\"1\" class=\"dataframe\">\n",
       "  <thead>\n",
       "    <tr style=\"text-align: right;\">\n",
       "      <th></th>\n",
       "      <th>browser</th>\n",
       "      <th>control</th>\n",
       "      <th>exp</th>\n",
       "    </tr>\n",
       "  </thead>\n",
       "  <tbody>\n",
       "    <tr>\n",
       "      <th>0</th>\n",
       "      <td>Browser #4</td>\n",
       "      <td>46.970930</td>\n",
       "      <td>43.035490</td>\n",
       "    </tr>\n",
       "    <tr>\n",
       "      <th>1</th>\n",
       "      <td>Browser #14</td>\n",
       "      <td>57.590411</td>\n",
       "      <td>44.163173</td>\n",
       "    </tr>\n",
       "    <tr>\n",
       "      <th>2</th>\n",
       "      <td>Browser #2</td>\n",
       "      <td>45.962747</td>\n",
       "      <td>43.535327</td>\n",
       "    </tr>\n",
       "    <tr>\n",
       "      <th>3</th>\n",
       "      <td>Browser #20</td>\n",
       "      <td>40.540485</td>\n",
       "      <td>37.675998</td>\n",
       "    </tr>\n",
       "    <tr>\n",
       "      <th>4</th>\n",
       "      <td>Browser #22</td>\n",
       "      <td>40.593977</td>\n",
       "      <td>38.111396</td>\n",
       "    </tr>\n",
       "    <tr>\n",
       "      <th>5</th>\n",
       "      <td>Browser #17</td>\n",
       "      <td>36.299367</td>\n",
       "      <td>37.149927</td>\n",
       "    </tr>\n",
       "  </tbody>\n",
       "</table>\n",
       "</div>"
      ],
      "text/plain": [
       "       browser    control        exp\n",
       "0   Browser #4  46.970930  43.035490\n",
       "1  Browser #14  57.590411  44.163173\n",
       "2   Browser #2  45.962747  43.535327\n",
       "3  Browser #20  40.540485  37.675998\n",
       "4  Browser #22  40.593977  38.111396\n",
       "5  Browser #17  36.299367  37.149927"
      ]
     },
     "execution_count": 54,
     "metadata": {},
     "output_type": "execute_result"
    }
   ],
   "source": [
    "pd.DataFrame({\"browser\": browsers, \"control\":ctrl_browser_no_clics, \"exp\":exp_browser_no_clics})"
   ]
  },
  {
   "cell_type": "code",
   "execution_count": null,
   "metadata": {},
   "outputs": [],
   "source": []
  },
  {
   "cell_type": "code",
   "execution_count": 70,
   "metadata": {},
   "outputs": [
    {
     "data": {
      "text/plain": [
       "numpy.int64"
      ]
     },
     "execution_count": 70,
     "metadata": {},
     "output_type": "execute_result"
    }
   ],
   "source": [
    "type(control[\"userID\"].iloc[1])"
   ]
  },
  {
   "cell_type": "code",
   "execution_count": null,
   "metadata": {},
   "outputs": [],
   "source": []
  }
 ],
 "metadata": {
  "kernelspec": {
   "display_name": "Python 2",
   "language": "python",
   "name": "python2"
  },
  "language_info": {
   "codemirror_mode": {
    "name": "ipython",
    "version": 2
   },
   "file_extension": ".py",
   "mimetype": "text/x-python",
   "name": "python",
   "nbconvert_exporter": "python",
   "pygments_lexer": "ipython2",
   "version": "2.7.15"
  }
 },
 "nbformat": 4,
 "nbformat_minor": 2
}
