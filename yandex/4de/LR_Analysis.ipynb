{
 "cells": [
  {
   "cell_type": "code",
   "execution_count": 276,
   "metadata": {},
   "outputs": [],
   "source": [
    "import pandas as pd\n",
    "import scipy.stats as sts\n",
    "import numpy as np"
   ]
  },
  {
   "cell_type": "code",
   "execution_count": 277,
   "metadata": {},
   "outputs": [
    {
     "data": {
      "text/html": [
       "<div>\n",
       "<style scoped>\n",
       "    .dataframe tbody tr th:only-of-type {\n",
       "        vertical-align: middle;\n",
       "    }\n",
       "\n",
       "    .dataframe tbody tr th {\n",
       "        vertical-align: top;\n",
       "    }\n",
       "\n",
       "    .dataframe thead th {\n",
       "        text-align: right;\n",
       "    }\n",
       "</style>\n",
       "<table border=\"1\" class=\"dataframe\">\n",
       "  <thead>\n",
       "    <tr style=\"text-align: right;\">\n",
       "      <th></th>\n",
       "      <th>ceb</th>\n",
       "      <th>age</th>\n",
       "      <th>educ</th>\n",
       "      <th>religion</th>\n",
       "      <th>idlnchld</th>\n",
       "      <th>knowmeth</th>\n",
       "      <th>usemeth</th>\n",
       "      <th>evermarr</th>\n",
       "      <th>agefm</th>\n",
       "      <th>heduc</th>\n",
       "      <th>urban</th>\n",
       "      <th>electric</th>\n",
       "      <th>radio</th>\n",
       "      <th>tv</th>\n",
       "      <th>bicycle</th>\n",
       "    </tr>\n",
       "  </thead>\n",
       "  <tbody>\n",
       "    <tr>\n",
       "      <th>0</th>\n",
       "      <td>0</td>\n",
       "      <td>18</td>\n",
       "      <td>10</td>\n",
       "      <td>catholic</td>\n",
       "      <td>4.0</td>\n",
       "      <td>1.0</td>\n",
       "      <td>1.0</td>\n",
       "      <td>0</td>\n",
       "      <td>NaN</td>\n",
       "      <td>NaN</td>\n",
       "      <td>1</td>\n",
       "      <td>1.0</td>\n",
       "      <td>1.0</td>\n",
       "      <td>1.0</td>\n",
       "      <td>1.0</td>\n",
       "    </tr>\n",
       "    <tr>\n",
       "      <th>1</th>\n",
       "      <td>2</td>\n",
       "      <td>43</td>\n",
       "      <td>11</td>\n",
       "      <td>protestant</td>\n",
       "      <td>2.0</td>\n",
       "      <td>1.0</td>\n",
       "      <td>1.0</td>\n",
       "      <td>1</td>\n",
       "      <td>20.0</td>\n",
       "      <td>14.0</td>\n",
       "      <td>1</td>\n",
       "      <td>1.0</td>\n",
       "      <td>1.0</td>\n",
       "      <td>1.0</td>\n",
       "      <td>1.0</td>\n",
       "    </tr>\n",
       "    <tr>\n",
       "      <th>2</th>\n",
       "      <td>0</td>\n",
       "      <td>49</td>\n",
       "      <td>4</td>\n",
       "      <td>spirit</td>\n",
       "      <td>4.0</td>\n",
       "      <td>1.0</td>\n",
       "      <td>0.0</td>\n",
       "      <td>1</td>\n",
       "      <td>22.0</td>\n",
       "      <td>1.0</td>\n",
       "      <td>1</td>\n",
       "      <td>1.0</td>\n",
       "      <td>1.0</td>\n",
       "      <td>0.0</td>\n",
       "      <td>0.0</td>\n",
       "    </tr>\n",
       "    <tr>\n",
       "      <th>3</th>\n",
       "      <td>0</td>\n",
       "      <td>24</td>\n",
       "      <td>12</td>\n",
       "      <td>other</td>\n",
       "      <td>2.0</td>\n",
       "      <td>1.0</td>\n",
       "      <td>0.0</td>\n",
       "      <td>0</td>\n",
       "      <td>NaN</td>\n",
       "      <td>NaN</td>\n",
       "      <td>1</td>\n",
       "      <td>1.0</td>\n",
       "      <td>1.0</td>\n",
       "      <td>1.0</td>\n",
       "      <td>1.0</td>\n",
       "    </tr>\n",
       "    <tr>\n",
       "      <th>4</th>\n",
       "      <td>3</td>\n",
       "      <td>32</td>\n",
       "      <td>13</td>\n",
       "      <td>other</td>\n",
       "      <td>3.0</td>\n",
       "      <td>1.0</td>\n",
       "      <td>1.0</td>\n",
       "      <td>1</td>\n",
       "      <td>24.0</td>\n",
       "      <td>12.0</td>\n",
       "      <td>1</td>\n",
       "      <td>1.0</td>\n",
       "      <td>1.0</td>\n",
       "      <td>1.0</td>\n",
       "      <td>1.0</td>\n",
       "    </tr>\n",
       "  </tbody>\n",
       "</table>\n",
       "</div>"
      ],
      "text/plain": [
       "   ceb  age  educ    religion  idlnchld  knowmeth  usemeth  evermarr  agefm  \\\n",
       "0    0   18    10    catholic       4.0       1.0      1.0         0    NaN   \n",
       "1    2   43    11  protestant       2.0       1.0      1.0         1   20.0   \n",
       "2    0   49     4      spirit       4.0       1.0      0.0         1   22.0   \n",
       "3    0   24    12       other       2.0       1.0      0.0         0    NaN   \n",
       "4    3   32    13       other       3.0       1.0      1.0         1   24.0   \n",
       "\n",
       "   heduc  urban  electric  radio   tv  bicycle  \n",
       "0    NaN      1       1.0    1.0  1.0      1.0  \n",
       "1   14.0      1       1.0    1.0  1.0      1.0  \n",
       "2    1.0      1       1.0    1.0  0.0      0.0  \n",
       "3    NaN      1       1.0    1.0  1.0      1.0  \n",
       "4   12.0      1       1.0    1.0  1.0      1.0  "
      ]
     },
     "execution_count": 277,
     "metadata": {},
     "output_type": "execute_result"
    }
   ],
   "source": [
    "data = pd.read_csv('botswana.tsv', sep='\\t')\n",
    "data.head()"
   ]
  },
  {
   "cell_type": "code",
   "execution_count": 278,
   "metadata": {},
   "outputs": [
    {
     "data": {
      "text/plain": [
       "4"
      ]
     },
     "execution_count": 278,
     "metadata": {},
     "output_type": "execute_result"
    }
   ],
   "source": [
    "len(data[\"religion\"].unique())"
   ]
  },
  {
   "cell_type": "code",
   "execution_count": 279,
   "metadata": {},
   "outputs": [
    {
     "data": {
      "text/plain": [
       "(1834, 15)"
      ]
     },
     "execution_count": 279,
     "metadata": {},
     "output_type": "execute_result"
    }
   ],
   "source": [
    "data.dropna().shape"
   ]
  },
  {
   "cell_type": "code",
   "execution_count": 280,
   "metadata": {},
   "outputs": [],
   "source": [
    "data['nevermarr'] = data[\"agefm\"].apply(lambda x: 1 if np.isnan(x) else 0)"
   ]
  },
  {
   "cell_type": "code",
   "execution_count": 281,
   "metadata": {},
   "outputs": [
    {
     "data": {
      "text/plain": [
       "0    1\n",
       "1    0\n",
       "2    0\n",
       "3    1\n",
       "4    0\n",
       "Name: nevermarr, dtype: int64"
      ]
     },
     "execution_count": 281,
     "metadata": {},
     "output_type": "execute_result"
    }
   ],
   "source": [
    "data['nevermarr'].head()"
   ]
  },
  {
   "cell_type": "code",
   "execution_count": 282,
   "metadata": {},
   "outputs": [],
   "source": [
    "sub_data = data.drop([\"evermarr\"], axis=1)"
   ]
  },
  {
   "cell_type": "code",
   "execution_count": 283,
   "metadata": {},
   "outputs": [
    {
     "data": {
      "text/html": [
       "<div>\n",
       "<style scoped>\n",
       "    .dataframe tbody tr th:only-of-type {\n",
       "        vertical-align: middle;\n",
       "    }\n",
       "\n",
       "    .dataframe tbody tr th {\n",
       "        vertical-align: top;\n",
       "    }\n",
       "\n",
       "    .dataframe thead th {\n",
       "        text-align: right;\n",
       "    }\n",
       "</style>\n",
       "<table border=\"1\" class=\"dataframe\">\n",
       "  <thead>\n",
       "    <tr style=\"text-align: right;\">\n",
       "      <th></th>\n",
       "      <th>ceb</th>\n",
       "      <th>age</th>\n",
       "      <th>educ</th>\n",
       "      <th>religion</th>\n",
       "      <th>idlnchld</th>\n",
       "      <th>knowmeth</th>\n",
       "      <th>usemeth</th>\n",
       "      <th>agefm</th>\n",
       "      <th>heduc</th>\n",
       "      <th>urban</th>\n",
       "      <th>electric</th>\n",
       "      <th>radio</th>\n",
       "      <th>tv</th>\n",
       "      <th>bicycle</th>\n",
       "      <th>nevermarr</th>\n",
       "    </tr>\n",
       "  </thead>\n",
       "  <tbody>\n",
       "    <tr>\n",
       "      <th>0</th>\n",
       "      <td>0</td>\n",
       "      <td>18</td>\n",
       "      <td>10</td>\n",
       "      <td>catholic</td>\n",
       "      <td>4.0</td>\n",
       "      <td>1.0</td>\n",
       "      <td>1.0</td>\n",
       "      <td>0.0</td>\n",
       "      <td>NaN</td>\n",
       "      <td>1</td>\n",
       "      <td>1.0</td>\n",
       "      <td>1.0</td>\n",
       "      <td>1.0</td>\n",
       "      <td>1.0</td>\n",
       "      <td>1</td>\n",
       "    </tr>\n",
       "    <tr>\n",
       "      <th>1</th>\n",
       "      <td>2</td>\n",
       "      <td>43</td>\n",
       "      <td>11</td>\n",
       "      <td>protestant</td>\n",
       "      <td>2.0</td>\n",
       "      <td>1.0</td>\n",
       "      <td>1.0</td>\n",
       "      <td>20.0</td>\n",
       "      <td>14.0</td>\n",
       "      <td>1</td>\n",
       "      <td>1.0</td>\n",
       "      <td>1.0</td>\n",
       "      <td>1.0</td>\n",
       "      <td>1.0</td>\n",
       "      <td>0</td>\n",
       "    </tr>\n",
       "    <tr>\n",
       "      <th>2</th>\n",
       "      <td>0</td>\n",
       "      <td>49</td>\n",
       "      <td>4</td>\n",
       "      <td>spirit</td>\n",
       "      <td>4.0</td>\n",
       "      <td>1.0</td>\n",
       "      <td>0.0</td>\n",
       "      <td>22.0</td>\n",
       "      <td>1.0</td>\n",
       "      <td>1</td>\n",
       "      <td>1.0</td>\n",
       "      <td>1.0</td>\n",
       "      <td>0.0</td>\n",
       "      <td>0.0</td>\n",
       "      <td>0</td>\n",
       "    </tr>\n",
       "    <tr>\n",
       "      <th>3</th>\n",
       "      <td>0</td>\n",
       "      <td>24</td>\n",
       "      <td>12</td>\n",
       "      <td>other</td>\n",
       "      <td>2.0</td>\n",
       "      <td>1.0</td>\n",
       "      <td>0.0</td>\n",
       "      <td>0.0</td>\n",
       "      <td>NaN</td>\n",
       "      <td>1</td>\n",
       "      <td>1.0</td>\n",
       "      <td>1.0</td>\n",
       "      <td>1.0</td>\n",
       "      <td>1.0</td>\n",
       "      <td>1</td>\n",
       "    </tr>\n",
       "    <tr>\n",
       "      <th>4</th>\n",
       "      <td>3</td>\n",
       "      <td>32</td>\n",
       "      <td>13</td>\n",
       "      <td>other</td>\n",
       "      <td>3.0</td>\n",
       "      <td>1.0</td>\n",
       "      <td>1.0</td>\n",
       "      <td>24.0</td>\n",
       "      <td>12.0</td>\n",
       "      <td>1</td>\n",
       "      <td>1.0</td>\n",
       "      <td>1.0</td>\n",
       "      <td>1.0</td>\n",
       "      <td>1.0</td>\n",
       "      <td>0</td>\n",
       "    </tr>\n",
       "  </tbody>\n",
       "</table>\n",
       "</div>"
      ],
      "text/plain": [
       "   ceb  age  educ    religion  idlnchld  knowmeth  usemeth  agefm  heduc  \\\n",
       "0    0   18    10    catholic       4.0       1.0      1.0    0.0    NaN   \n",
       "1    2   43    11  protestant       2.0       1.0      1.0   20.0   14.0   \n",
       "2    0   49     4      spirit       4.0       1.0      0.0   22.0    1.0   \n",
       "3    0   24    12       other       2.0       1.0      0.0    0.0    NaN   \n",
       "4    3   32    13       other       3.0       1.0      1.0   24.0   12.0   \n",
       "\n",
       "   urban  electric  radio   tv  bicycle  nevermarr  \n",
       "0      1       1.0    1.0  1.0      1.0          1  \n",
       "1      1       1.0    1.0  1.0      1.0          0  \n",
       "2      1       1.0    1.0  0.0      0.0          0  \n",
       "3      1       1.0    1.0  1.0      1.0          1  \n",
       "4      1       1.0    1.0  1.0      1.0          0  "
      ]
     },
     "execution_count": 283,
     "metadata": {},
     "output_type": "execute_result"
    }
   ],
   "source": [
    "sub_data['agefm'].fillna(0, inplace=True)\n",
    "sub_data.head()"
   ]
  },
  {
   "cell_type": "code",
   "execution_count": 284,
   "metadata": {},
   "outputs": [
    {
     "name": "stderr",
     "output_type": "stream",
     "text": [
      "/home/storm/anaconda3/envs/py27/lib/python2.7/site-packages/ipykernel_launcher.py:1: SettingWithCopyWarning: \n",
      "A value is trying to be set on a copy of a slice from a DataFrame\n",
      "\n",
      "See the caveats in the documentation: http://pandas.pydata.org/pandas-docs/stable/indexing.html#indexing-view-versus-copy\n",
      "  \"\"\"Entry point for launching an IPython kernel.\n"
     ]
    }
   ],
   "source": [
    "sub_data[\"heduc\"][sub_data[\"nevermarr\"]==1] = sub_data[\"heduc\"][sub_data[\"nevermarr\"]==1].fillna(-1)"
   ]
  },
  {
   "cell_type": "code",
   "execution_count": 285,
   "metadata": {},
   "outputs": [
    {
     "data": {
      "text/plain": [
       "123"
      ]
     },
     "execution_count": 285,
     "metadata": {},
     "output_type": "execute_result"
    }
   ],
   "source": [
    "sub_data[\"heduc\"].isna().sum()"
   ]
  },
  {
   "cell_type": "code",
   "execution_count": 286,
   "metadata": {},
   "outputs": [],
   "source": [
    "for f in [\"heduc\",\"idlnchld\", \"usemeth\"]:\n",
    "    f_noans = f + \"_noans\"\n",
    "    sub_data[f_noans] = data[f].apply(lambda x: 1 if np.isnan(x) else 0)\n",
    "\n",
    "sub_data[\"heduc\"].fillna(-2, inplace=True)\n",
    "for f in [\"idlnchld\", \"usemeth\"]:\n",
    "    sub_data[f].fillna(-1, inplace=True)\n",
    "    "
   ]
  },
  {
   "cell_type": "code",
   "execution_count": 287,
   "metadata": {},
   "outputs": [
    {
     "data": {
      "text/plain": [
       "ceb               0\n",
       "age               0\n",
       "educ              0\n",
       "religion          0\n",
       "idlnchld          0\n",
       "knowmeth          7\n",
       "usemeth           0\n",
       "agefm             0\n",
       "heduc             0\n",
       "urban             0\n",
       "electric          3\n",
       "radio             2\n",
       "tv                2\n",
       "bicycle           3\n",
       "nevermarr         0\n",
       "heduc_noans       0\n",
       "idlnchld_noans    0\n",
       "usemeth_noans     0\n",
       "dtype: int64"
      ]
     },
     "execution_count": 287,
     "metadata": {},
     "output_type": "execute_result"
    }
   ],
   "source": [
    "sub_data.isnull().sum()"
   ]
  },
  {
   "cell_type": "code",
   "execution_count": 288,
   "metadata": {},
   "outputs": [
    {
     "data": {
      "text/plain": [
       "78498"
      ]
     },
     "execution_count": 288,
     "metadata": {},
     "output_type": "execute_result"
    }
   ],
   "source": [
    "sub_data.shape[0] * sub_data.shape[1]"
   ]
  },
  {
   "cell_type": "code",
   "execution_count": 289,
   "metadata": {},
   "outputs": [],
   "source": [
    "sub_data.dropna(inplace=True)"
   ]
  },
  {
   "cell_type": "code",
   "execution_count": 290,
   "metadata": {},
   "outputs": [
    {
     "data": {
      "text/plain": [
       "'ceb + age + educ + religion + idlnchld + knowmeth + usemeth + agefm + heduc + urban + electric + radio + tv + bicycle + nevermarr + heduc_noans + idlnchld_noans + usemeth_noans'"
      ]
     },
     "execution_count": 290,
     "metadata": {},
     "output_type": "execute_result"
    }
   ],
   "source": [
    "import statsmodels.formula.api as smf\n",
    "\" + \".join(sub_data.columns.tolist())"
   ]
  },
  {
   "cell_type": "code",
   "execution_count": 306,
   "metadata": {},
   "outputs": [],
   "source": [
    "linear_statmodel = smf.ols(\"ceb ~ age + educ + religion + idlnchld + knowmeth + usemeth + agefm + heduc + \\\n",
    "                           urban + electric + radio + tv + bicycle + nevermarr + heduc_noans + idlnchld_noans + usemeth_noans\", sub_data)"
   ]
  },
  {
   "cell_type": "code",
   "execution_count": 307,
   "metadata": {},
   "outputs": [
    {
     "data": {
      "text/plain": [
       "<statsmodels.regression.linear_model.OLS at 0x7fb5292c1290>"
      ]
     },
     "execution_count": 307,
     "metadata": {},
     "output_type": "execute_result"
    }
   ],
   "source": [
    "linear_statmodel"
   ]
  },
  {
   "cell_type": "code",
   "execution_count": 308,
   "metadata": {},
   "outputs": [
    {
     "data": {
      "text/html": [
       "<table class=\"simpletable\">\n",
       "<caption>OLS Regression Results</caption>\n",
       "<tr>\n",
       "  <th>Dep. Variable:</th>           <td>ceb</td>       <th>  R-squared:         </th> <td>   0.644</td> \n",
       "</tr>\n",
       "<tr>\n",
       "  <th>Model:</th>                   <td>OLS</td>       <th>  Adj. R-squared:    </th> <td>   0.643</td> \n",
       "</tr>\n",
       "<tr>\n",
       "  <th>Method:</th>             <td>Least Squares</td>  <th>  F-statistic:       </th> <td>   412.5</td> \n",
       "</tr>\n",
       "<tr>\n",
       "  <th>Date:</th>             <td>Sun, 09 Dec 2018</td> <th>  Prob (F-statistic):</th>  <td>  0.00</td>  \n",
       "</tr>\n",
       "<tr>\n",
       "  <th>Time:</th>                 <td>20:18:21</td>     <th>  Log-Likelihood:    </th> <td> -7732.1</td> \n",
       "</tr>\n",
       "<tr>\n",
       "  <th>No. Observations:</th>      <td>  4348</td>      <th>  AIC:               </th> <td>1.550e+04</td>\n",
       "</tr>\n",
       "<tr>\n",
       "  <th>Df Residuals:</th>          <td>  4328</td>      <th>  BIC:               </th> <td>1.563e+04</td>\n",
       "</tr>\n",
       "<tr>\n",
       "  <th>Df Model:</th>              <td>    19</td>      <th>                     </th>     <td> </td>    \n",
       "</tr>\n",
       "<tr>\n",
       "  <th>Covariance Type:</th>      <td>nonrobust</td>    <th>                     </th>     <td> </td>    \n",
       "</tr>\n",
       "</table>\n",
       "<table class=\"simpletable\">\n",
       "<tr>\n",
       "             <td></td>               <th>coef</th>     <th>std err</th>      <th>t</th>      <th>P>|t|</th>  <th>[0.025</th>    <th>0.975]</th>  \n",
       "</tr>\n",
       "<tr>\n",
       "  <th>Intercept</th>              <td>   -1.0263</td> <td>    0.212</td> <td>   -4.835</td> <td> 0.000</td> <td>   -1.443</td> <td>   -0.610</td>\n",
       "</tr>\n",
       "<tr>\n",
       "  <th>religion[T.other]</th>      <td>   -0.0830</td> <td>    0.083</td> <td>   -1.001</td> <td> 0.317</td> <td>   -0.245</td> <td>    0.080</td>\n",
       "</tr>\n",
       "<tr>\n",
       "  <th>religion[T.protestant]</th> <td>   -0.0149</td> <td>    0.082</td> <td>   -0.181</td> <td> 0.857</td> <td>   -0.176</td> <td>    0.146</td>\n",
       "</tr>\n",
       "<tr>\n",
       "  <th>religion[T.spirit]</th>     <td>   -0.0191</td> <td>    0.077</td> <td>   -0.248</td> <td> 0.804</td> <td>   -0.171</td> <td>    0.132</td>\n",
       "</tr>\n",
       "<tr>\n",
       "  <th>age</th>                    <td>    0.1703</td> <td>    0.003</td> <td>   51.891</td> <td> 0.000</td> <td>    0.164</td> <td>    0.177</td>\n",
       "</tr>\n",
       "<tr>\n",
       "  <th>educ</th>                   <td>   -0.0724</td> <td>    0.007</td> <td>   -9.843</td> <td> 0.000</td> <td>   -0.087</td> <td>   -0.058</td>\n",
       "</tr>\n",
       "<tr>\n",
       "  <th>idlnchld</th>               <td>    0.0760</td> <td>    0.011</td> <td>    6.923</td> <td> 0.000</td> <td>    0.054</td> <td>    0.098</td>\n",
       "</tr>\n",
       "<tr>\n",
       "  <th>knowmeth</th>               <td>    0.5564</td> <td>    0.121</td> <td>    4.580</td> <td> 0.000</td> <td>    0.318</td> <td>    0.795</td>\n",
       "</tr>\n",
       "<tr>\n",
       "  <th>usemeth</th>                <td>    0.6473</td> <td>    0.048</td> <td>   13.424</td> <td> 0.000</td> <td>    0.553</td> <td>    0.742</td>\n",
       "</tr>\n",
       "<tr>\n",
       "  <th>agefm</th>                  <td>   -0.0604</td> <td>    0.007</td> <td>   -9.213</td> <td> 0.000</td> <td>   -0.073</td> <td>   -0.048</td>\n",
       "</tr>\n",
       "<tr>\n",
       "  <th>heduc</th>                  <td>   -0.0551</td> <td>    0.008</td> <td>   -6.838</td> <td> 0.000</td> <td>   -0.071</td> <td>   -0.039</td>\n",
       "</tr>\n",
       "<tr>\n",
       "  <th>urban</th>                  <td>   -0.2137</td> <td>    0.047</td> <td>   -4.527</td> <td> 0.000</td> <td>   -0.306</td> <td>   -0.121</td>\n",
       "</tr>\n",
       "<tr>\n",
       "  <th>electric</th>               <td>   -0.2685</td> <td>    0.077</td> <td>   -3.479</td> <td> 0.001</td> <td>   -0.420</td> <td>   -0.117</td>\n",
       "</tr>\n",
       "<tr>\n",
       "  <th>radio</th>                  <td>   -0.0235</td> <td>    0.051</td> <td>   -0.461</td> <td> 0.645</td> <td>   -0.123</td> <td>    0.076</td>\n",
       "</tr>\n",
       "<tr>\n",
       "  <th>tv</th>                     <td>   -0.1451</td> <td>    0.093</td> <td>   -1.566</td> <td> 0.118</td> <td>   -0.327</td> <td>    0.037</td>\n",
       "</tr>\n",
       "<tr>\n",
       "  <th>bicycle</th>                <td>    0.2139</td> <td>    0.050</td> <td>    4.260</td> <td> 0.000</td> <td>    0.115</td> <td>    0.312</td>\n",
       "</tr>\n",
       "<tr>\n",
       "  <th>nevermarr</th>              <td>   -1.3668</td> <td>    0.189</td> <td>   -7.220</td> <td> 0.000</td> <td>   -1.738</td> <td>   -0.996</td>\n",
       "</tr>\n",
       "<tr>\n",
       "  <th>heduc_noans</th>            <td>   -0.8724</td> <td>    0.145</td> <td>   -6.026</td> <td> 0.000</td> <td>   -1.156</td> <td>   -0.589</td>\n",
       "</tr>\n",
       "<tr>\n",
       "  <th>idlnchld_noans</th>         <td>    0.6539</td> <td>    0.153</td> <td>    4.286</td> <td> 0.000</td> <td>    0.355</td> <td>    0.953</td>\n",
       "</tr>\n",
       "<tr>\n",
       "  <th>usemeth_noans</th>          <td>    0.7652</td> <td>    0.196</td> <td>    3.910</td> <td> 0.000</td> <td>    0.382</td> <td>    1.149</td>\n",
       "</tr>\n",
       "</table>\n",
       "<table class=\"simpletable\">\n",
       "<tr>\n",
       "  <th>Omnibus:</th>       <td>224.411</td> <th>  Durbin-Watson:     </th> <td>   1.887</td> \n",
       "</tr>\n",
       "<tr>\n",
       "  <th>Prob(Omnibus):</th> <td> 0.000</td>  <th>  Jarque-Bera (JB):  </th> <td> 859.014</td> \n",
       "</tr>\n",
       "<tr>\n",
       "  <th>Skew:</th>          <td> 0.003</td>  <th>  Prob(JB):          </th> <td>2.93e-187</td>\n",
       "</tr>\n",
       "<tr>\n",
       "  <th>Kurtosis:</th>      <td> 5.178</td>  <th>  Cond. No.          </th> <td>    369.</td> \n",
       "</tr>\n",
       "</table><br/><br/>Warnings:<br/>[1] Standard Errors assume that the covariance matrix of the errors is correctly specified."
      ],
      "text/plain": [
       "<class 'statsmodels.iolib.summary.Summary'>\n",
       "\"\"\"\n",
       "                            OLS Regression Results                            \n",
       "==============================================================================\n",
       "Dep. Variable:                    ceb   R-squared:                       0.644\n",
       "Model:                            OLS   Adj. R-squared:                  0.643\n",
       "Method:                 Least Squares   F-statistic:                     412.5\n",
       "Date:                Sun, 09 Dec 2018   Prob (F-statistic):               0.00\n",
       "Time:                        20:18:21   Log-Likelihood:                -7732.1\n",
       "No. Observations:                4348   AIC:                         1.550e+04\n",
       "Df Residuals:                    4328   BIC:                         1.563e+04\n",
       "Df Model:                          19                                         \n",
       "Covariance Type:            nonrobust                                         \n",
       "==========================================================================================\n",
       "                             coef    std err          t      P>|t|      [0.025      0.975]\n",
       "------------------------------------------------------------------------------------------\n",
       "Intercept                 -1.0263      0.212     -4.835      0.000      -1.443      -0.610\n",
       "religion[T.other]         -0.0830      0.083     -1.001      0.317      -0.245       0.080\n",
       "religion[T.protestant]    -0.0149      0.082     -0.181      0.857      -0.176       0.146\n",
       "religion[T.spirit]        -0.0191      0.077     -0.248      0.804      -0.171       0.132\n",
       "age                        0.1703      0.003     51.891      0.000       0.164       0.177\n",
       "educ                      -0.0724      0.007     -9.843      0.000      -0.087      -0.058\n",
       "idlnchld                   0.0760      0.011      6.923      0.000       0.054       0.098\n",
       "knowmeth                   0.5564      0.121      4.580      0.000       0.318       0.795\n",
       "usemeth                    0.6473      0.048     13.424      0.000       0.553       0.742\n",
       "agefm                     -0.0604      0.007     -9.213      0.000      -0.073      -0.048\n",
       "heduc                     -0.0551      0.008     -6.838      0.000      -0.071      -0.039\n",
       "urban                     -0.2137      0.047     -4.527      0.000      -0.306      -0.121\n",
       "electric                  -0.2685      0.077     -3.479      0.001      -0.420      -0.117\n",
       "radio                     -0.0235      0.051     -0.461      0.645      -0.123       0.076\n",
       "tv                        -0.1451      0.093     -1.566      0.118      -0.327       0.037\n",
       "bicycle                    0.2139      0.050      4.260      0.000       0.115       0.312\n",
       "nevermarr                 -1.3668      0.189     -7.220      0.000      -1.738      -0.996\n",
       "heduc_noans               -0.8724      0.145     -6.026      0.000      -1.156      -0.589\n",
       "idlnchld_noans             0.6539      0.153      4.286      0.000       0.355       0.953\n",
       "usemeth_noans              0.7652      0.196      3.910      0.000       0.382       1.149\n",
       "==============================================================================\n",
       "Omnibus:                      224.411   Durbin-Watson:                   1.887\n",
       "Prob(Omnibus):                  0.000   Jarque-Bera (JB):              859.014\n",
       "Skew:                           0.003   Prob(JB):                    2.93e-187\n",
       "Kurtosis:                       5.178   Cond. No.                         369.\n",
       "==============================================================================\n",
       "\n",
       "Warnings:\n",
       "[1] Standard Errors assume that the covariance matrix of the errors is correctly specified.\n",
       "\"\"\""
      ]
     },
     "execution_count": 308,
     "metadata": {},
     "output_type": "execute_result"
    }
   ],
   "source": [
    "fitted_model = linear_statmodel.fit()\n",
    "fitted_model.summary()"
   ]
  },
  {
   "cell_type": "code",
   "execution_count": 294,
   "metadata": {},
   "outputs": [
    {
     "data": {
      "text/plain": [
       "\u001b[0;31mSignature:\u001b[0m \u001b[0msms\u001b[0m\u001b[0;34m.\u001b[0m\u001b[0mhet_breuschpagan\u001b[0m\u001b[0;34m(\u001b[0m\u001b[0mresid\u001b[0m\u001b[0;34m,\u001b[0m \u001b[0mexog_het\u001b[0m\u001b[0;34m)\u001b[0m\u001b[0;34m\u001b[0m\u001b[0m\n",
       "\u001b[0;31mDocstring:\u001b[0m\n",
       "Breusch-Pagan Lagrange Multiplier test for heteroscedasticity\n",
       "\n",
       "The tests the hypothesis that the residual variance does not depend on\n",
       "the variables in x in the form\n",
       "\n",
       ":math: \\sigma_i = \\sigma * f(\\alpha_0 + \\alpha z_i)\n",
       "\n",
       "Homoscedasticity implies that $\\alpha=0$\n",
       "\n",
       "\n",
       "Parameters\n",
       "----------\n",
       "resid : array-like\n",
       "    For the Breusch-Pagan test, this should be the residual of a regression.\n",
       "    If an array is given in exog, then the residuals are calculated by\n",
       "    the an OLS regression or resid on exog. In this case resid should\n",
       "    contain the dependent variable. Exog can be the same as x.\n",
       "    TODO: I dropped the exog option, should I add it back?\n",
       "exog_het : array_like\n",
       "    This contains variables that might create data dependent\n",
       "    heteroscedasticity.\n",
       "\n",
       "Returns\n",
       "-------\n",
       "lm : float\n",
       "    lagrange multiplier statistic\n",
       "lm_pvalue :float\n",
       "    p-value of lagrange multiplier test\n",
       "fvalue : float\n",
       "    f-statistic of the hypothesis that the error variance does not depend\n",
       "    on x\n",
       "f_pvalue : float\n",
       "    p-value for the f-statistic\n",
       "\n",
       "Notes\n",
       "-----\n",
       "Assumes x contains constant (for counting dof and calculation of R^2).\n",
       "In the general description of LM test, Greene mentions that this test\n",
       "exaggerates the significance of results in small or moderately large\n",
       "samples. In this case the F-statistic is preferrable.\n",
       "\n",
       "*Verification*\n",
       "\n",
       "Chisquare test statistic is exactly (<1e-13) the same result as bptest\n",
       "in R-stats with defaults (studentize=True).\n",
       "\n",
       "Implementation\n",
       "This is calculated using the generic formula for LM test using $R^2$\n",
       "(Greene, section 17.6) and not with the explicit formula\n",
       "(Greene, section 11.4.3).\n",
       "The degrees of freedom for the p-value assume x is full rank.\n",
       "\n",
       "References\n",
       "----------\n",
       "http://en.wikipedia.org/wiki/Breusch%E2%80%93Pagan_test\n",
       "Greene 5th edition\n",
       "Breusch, Pagan article\n",
       "\u001b[0;31mFile:\u001b[0m      ~/anaconda3/envs/py27/lib/python2.7/site-packages/statsmodels/sandbox/stats/diagnostic.py\n",
       "\u001b[0;31mType:\u001b[0m      function\n"
      ]
     },
     "metadata": {},
     "output_type": "display_data"
    }
   ],
   "source": [
    "import statsmodels.stats.api as sms\n",
    "?sms.het_breuschpagan"
   ]
  },
  {
   "cell_type": "code",
   "execution_count": 309,
   "metadata": {},
   "outputs": [
    {
     "data": {
      "text/plain": [
       "1.1452927633439797e-225"
      ]
     },
     "execution_count": 309,
     "metadata": {},
     "output_type": "execute_result"
    }
   ],
   "source": [
    "sms.het_breuschpagan(fitted_model.resid, fitted_model.model.exog)[1]"
   ]
  },
  {
   "cell_type": "code",
   "execution_count": 311,
   "metadata": {},
   "outputs": [
    {
     "data": {
      "text/plain": [
       "'ceb + age + educ + idlnchld + knowmeth + usemeth + agefm + heduc + urban + electric + bicycle + nevermarr + heduc_noans + idlnchld_noans + usemeth_noans'"
      ]
     },
     "execution_count": 311,
     "metadata": {},
     "output_type": "execute_result"
    }
   ],
   "source": [
    "test_data = sub_data.drop([\"religion\", \"radio\", \"tv\"], axis=1)\n",
    "\" + \".join(test_data.columns.tolist())"
   ]
  },
  {
   "cell_type": "code",
   "execution_count": 312,
   "metadata": {},
   "outputs": [
    {
     "data": {
      "text/html": [
       "<table class=\"simpletable\">\n",
       "<caption>OLS Regression Results</caption>\n",
       "<tr>\n",
       "  <th>Dep. Variable:</th>           <td>ceb</td>       <th>  R-squared:         </th> <td>   0.644</td> \n",
       "</tr>\n",
       "<tr>\n",
       "  <th>Model:</th>                   <td>OLS</td>       <th>  Adj. R-squared:    </th> <td>   0.643</td> \n",
       "</tr>\n",
       "<tr>\n",
       "  <th>Method:</th>             <td>Least Squares</td>  <th>  F-statistic:       </th> <td>   559.5</td> \n",
       "</tr>\n",
       "<tr>\n",
       "  <th>Date:</th>             <td>Sun, 09 Dec 2018</td> <th>  Prob (F-statistic):</th>  <td>  0.00</td>  \n",
       "</tr>\n",
       "<tr>\n",
       "  <th>Time:</th>                 <td>20:20:18</td>     <th>  Log-Likelihood:    </th> <td> -7734.5</td> \n",
       "</tr>\n",
       "<tr>\n",
       "  <th>No. Observations:</th>      <td>  4348</td>      <th>  AIC:               </th> <td>1.550e+04</td>\n",
       "</tr>\n",
       "<tr>\n",
       "  <th>Df Residuals:</th>          <td>  4333</td>      <th>  BIC:               </th> <td>1.559e+04</td>\n",
       "</tr>\n",
       "<tr>\n",
       "  <th>Df Model:</th>              <td>    14</td>      <th>                     </th>     <td> </td>    \n",
       "</tr>\n",
       "<tr>\n",
       "  <th>Covariance Type:</th>      <td>nonrobust</td>    <th>                     </th>     <td> </td>    \n",
       "</tr>\n",
       "</table>\n",
       "<table class=\"simpletable\">\n",
       "<tr>\n",
       "         <td></td>           <th>coef</th>     <th>std err</th>      <th>t</th>      <th>P>|t|</th>  <th>[0.025</th>    <th>0.975]</th>  \n",
       "</tr>\n",
       "<tr>\n",
       "  <th>Intercept</th>      <td>   -1.0698</td> <td>    0.198</td> <td>   -5.393</td> <td> 0.000</td> <td>   -1.459</td> <td>   -0.681</td>\n",
       "</tr>\n",
       "<tr>\n",
       "  <th>age</th>            <td>    0.1702</td> <td>    0.003</td> <td>   52.271</td> <td> 0.000</td> <td>    0.164</td> <td>    0.177</td>\n",
       "</tr>\n",
       "<tr>\n",
       "  <th>educ</th>           <td>   -0.0729</td> <td>    0.007</td> <td>  -10.285</td> <td> 0.000</td> <td>   -0.087</td> <td>   -0.059</td>\n",
       "</tr>\n",
       "<tr>\n",
       "  <th>idlnchld</th>       <td>    0.0770</td> <td>    0.011</td> <td>    7.042</td> <td> 0.000</td> <td>    0.056</td> <td>    0.098</td>\n",
       "</tr>\n",
       "<tr>\n",
       "  <th>knowmeth</th>       <td>    0.5610</td> <td>    0.121</td> <td>    4.628</td> <td> 0.000</td> <td>    0.323</td> <td>    0.799</td>\n",
       "</tr>\n",
       "<tr>\n",
       "  <th>usemeth</th>        <td>    0.6516</td> <td>    0.048</td> <td>   13.537</td> <td> 0.000</td> <td>    0.557</td> <td>    0.746</td>\n",
       "</tr>\n",
       "<tr>\n",
       "  <th>agefm</th>          <td>   -0.0606</td> <td>    0.007</td> <td>   -9.240</td> <td> 0.000</td> <td>   -0.073</td> <td>   -0.048</td>\n",
       "</tr>\n",
       "<tr>\n",
       "  <th>heduc</th>          <td>   -0.0573</td> <td>    0.008</td> <td>   -7.186</td> <td> 0.000</td> <td>   -0.073</td> <td>   -0.042</td>\n",
       "</tr>\n",
       "<tr>\n",
       "  <th>urban</th>          <td>   -0.2190</td> <td>    0.047</td> <td>   -4.682</td> <td> 0.000</td> <td>   -0.311</td> <td>   -0.127</td>\n",
       "</tr>\n",
       "<tr>\n",
       "  <th>electric</th>       <td>   -0.3207</td> <td>    0.070</td> <td>   -4.584</td> <td> 0.000</td> <td>   -0.458</td> <td>   -0.184</td>\n",
       "</tr>\n",
       "<tr>\n",
       "  <th>bicycle</th>        <td>    0.2046</td> <td>    0.049</td> <td>    4.154</td> <td> 0.000</td> <td>    0.108</td> <td>    0.301</td>\n",
       "</tr>\n",
       "<tr>\n",
       "  <th>nevermarr</th>      <td>   -1.3648</td> <td>    0.189</td> <td>   -7.215</td> <td> 0.000</td> <td>   -1.736</td> <td>   -0.994</td>\n",
       "</tr>\n",
       "<tr>\n",
       "  <th>heduc_noans</th>    <td>   -0.8853</td> <td>    0.145</td> <td>   -6.122</td> <td> 0.000</td> <td>   -1.169</td> <td>   -0.602</td>\n",
       "</tr>\n",
       "<tr>\n",
       "  <th>idlnchld_noans</th> <td>    0.6565</td> <td>    0.152</td> <td>    4.310</td> <td> 0.000</td> <td>    0.358</td> <td>    0.955</td>\n",
       "</tr>\n",
       "<tr>\n",
       "  <th>usemeth_noans</th>  <td>    0.7732</td> <td>    0.196</td> <td>    3.955</td> <td> 0.000</td> <td>    0.390</td> <td>    1.156</td>\n",
       "</tr>\n",
       "</table>\n",
       "<table class=\"simpletable\">\n",
       "<tr>\n",
       "  <th>Omnibus:</th>       <td>224.096</td> <th>  Durbin-Watson:     </th> <td>   1.886</td> \n",
       "</tr>\n",
       "<tr>\n",
       "  <th>Prob(Omnibus):</th> <td> 0.000</td>  <th>  Jarque-Bera (JB):  </th> <td> 856.760</td> \n",
       "</tr>\n",
       "<tr>\n",
       "  <th>Skew:</th>          <td> 0.004</td>  <th>  Prob(JB):          </th> <td>9.06e-187</td>\n",
       "</tr>\n",
       "<tr>\n",
       "  <th>Kurtosis:</th>      <td> 5.175</td>  <th>  Cond. No.          </th> <td>    357.</td> \n",
       "</tr>\n",
       "</table><br/><br/>Warnings:<br/>[1] Standard Errors assume that the covariance matrix of the errors is correctly specified."
      ],
      "text/plain": [
       "<class 'statsmodels.iolib.summary.Summary'>\n",
       "\"\"\"\n",
       "                            OLS Regression Results                            \n",
       "==============================================================================\n",
       "Dep. Variable:                    ceb   R-squared:                       0.644\n",
       "Model:                            OLS   Adj. R-squared:                  0.643\n",
       "Method:                 Least Squares   F-statistic:                     559.5\n",
       "Date:                Sun, 09 Dec 2018   Prob (F-statistic):               0.00\n",
       "Time:                        20:20:18   Log-Likelihood:                -7734.5\n",
       "No. Observations:                4348   AIC:                         1.550e+04\n",
       "Df Residuals:                    4333   BIC:                         1.559e+04\n",
       "Df Model:                          14                                         \n",
       "Covariance Type:            nonrobust                                         \n",
       "==================================================================================\n",
       "                     coef    std err          t      P>|t|      [0.025      0.975]\n",
       "----------------------------------------------------------------------------------\n",
       "Intercept         -1.0698      0.198     -5.393      0.000      -1.459      -0.681\n",
       "age                0.1702      0.003     52.271      0.000       0.164       0.177\n",
       "educ              -0.0729      0.007    -10.285      0.000      -0.087      -0.059\n",
       "idlnchld           0.0770      0.011      7.042      0.000       0.056       0.098\n",
       "knowmeth           0.5610      0.121      4.628      0.000       0.323       0.799\n",
       "usemeth            0.6516      0.048     13.537      0.000       0.557       0.746\n",
       "agefm             -0.0606      0.007     -9.240      0.000      -0.073      -0.048\n",
       "heduc             -0.0573      0.008     -7.186      0.000      -0.073      -0.042\n",
       "urban             -0.2190      0.047     -4.682      0.000      -0.311      -0.127\n",
       "electric          -0.3207      0.070     -4.584      0.000      -0.458      -0.184\n",
       "bicycle            0.2046      0.049      4.154      0.000       0.108       0.301\n",
       "nevermarr         -1.3648      0.189     -7.215      0.000      -1.736      -0.994\n",
       "heduc_noans       -0.8853      0.145     -6.122      0.000      -1.169      -0.602\n",
       "idlnchld_noans     0.6565      0.152      4.310      0.000       0.358       0.955\n",
       "usemeth_noans      0.7732      0.196      3.955      0.000       0.390       1.156\n",
       "==============================================================================\n",
       "Omnibus:                      224.096   Durbin-Watson:                   1.886\n",
       "Prob(Omnibus):                  0.000   Jarque-Bera (JB):              856.760\n",
       "Skew:                           0.004   Prob(JB):                    9.06e-187\n",
       "Kurtosis:                       5.175   Cond. No.                         357.\n",
       "==============================================================================\n",
       "\n",
       "Warnings:\n",
       "[1] Standard Errors assume that the covariance matrix of the errors is correctly specified.\n",
       "\"\"\""
      ]
     },
     "execution_count": 312,
     "metadata": {},
     "output_type": "execute_result"
    }
   ],
   "source": [
    "linear_statmodel_2 = smf.ols(\"ceb ~ age + educ + idlnchld + knowmeth + usemeth + agefm + heduc + urban + electric + bicycle \\\n",
    "                             + nevermarr + heduc_noans + idlnchld_noans + usemeth_noans\", test_data)\n",
    "fitted_model_2 = linear_statmodel_2.fit()\n",
    "fitted_model_2.summary()"
   ]
  },
  {
   "cell_type": "code",
   "execution_count": 313,
   "metadata": {},
   "outputs": [
    {
     "data": {
      "text/plain": [
       "(0.9192357784631671, 0.467230554727435, 5.0)"
      ]
     },
     "execution_count": 313,
     "metadata": {},
     "output_type": "execute_result"
    }
   ],
   "source": [
    "fitted_model.compare_f_test(fitted_model_2)"
   ]
  },
  {
   "cell_type": "code",
   "execution_count": 314,
   "metadata": {},
   "outputs": [
    {
     "data": {
      "text/plain": [
       "(0.9192357784631671, 0.467230554727435, 5.0)"
      ]
     },
     "execution_count": 314,
     "metadata": {},
     "output_type": "execute_result"
    }
   ],
   "source": [
    "fitted_model.compare_f_test(fitted_model_2)"
   ]
  },
  {
   "cell_type": "markdown",
   "metadata": {},
   "source": [
    "pvalue ~ 0.47, model after removal of 3 features dosen't have better results."
   ]
  },
  {
   "cell_type": "code",
   "execution_count": 316,
   "metadata": {},
   "outputs": [
    {
     "data": {
      "text/plain": [
       "0.4672"
      ]
     },
     "execution_count": 316,
     "metadata": {},
     "output_type": "execute_result"
    }
   ],
   "source": [
    "round(fitted_model.compare_f_test(fitted_model_2)[1],4)"
   ]
  },
  {
   "cell_type": "code",
   "execution_count": 317,
   "metadata": {},
   "outputs": [],
   "source": [
    "# second model no better than first, so test_data is no longer needed\n",
    "del test_data"
   ]
  },
  {
   "cell_type": "code",
   "execution_count": 319,
   "metadata": {},
   "outputs": [
    {
     "data": {
      "text/plain": [
       "'ceb + age + educ + religion + idlnchld + knowmeth + agefm + heduc + urban + electric + radio + tv + bicycle + nevermarr + heduc_noans + idlnchld_noans'"
      ]
     },
     "execution_count": 319,
     "metadata": {},
     "output_type": "execute_result"
    }
   ],
   "source": [
    "test_data = sub_data.drop([\"usemeth\", \"usemeth_noans\"], axis=1)\n",
    "\" + \".join(test_data.columns.tolist())"
   ]
  },
  {
   "cell_type": "code",
   "execution_count": 320,
   "metadata": {},
   "outputs": [
    {
     "data": {
      "text/html": [
       "<table class=\"simpletable\">\n",
       "<caption>OLS Regression Results</caption>\n",
       "<tr>\n",
       "  <th>Dep. Variable:</th>           <td>ceb</td>       <th>  R-squared:         </th> <td>   0.629</td> \n",
       "</tr>\n",
       "<tr>\n",
       "  <th>Model:</th>                   <td>OLS</td>       <th>  Adj. R-squared:    </th> <td>   0.628</td> \n",
       "</tr>\n",
       "<tr>\n",
       "  <th>Method:</th>             <td>Least Squares</td>  <th>  F-statistic:       </th> <td>   432.2</td> \n",
       "</tr>\n",
       "<tr>\n",
       "  <th>Date:</th>             <td>Sun, 09 Dec 2018</td> <th>  Prob (F-statistic):</th>  <td>  0.00</td>  \n",
       "</tr>\n",
       "<tr>\n",
       "  <th>Time:</th>                 <td>20:21:26</td>     <th>  Log-Likelihood:    </th> <td> -7822.1</td> \n",
       "</tr>\n",
       "<tr>\n",
       "  <th>No. Observations:</th>      <td>  4348</td>      <th>  AIC:               </th> <td>1.568e+04</td>\n",
       "</tr>\n",
       "<tr>\n",
       "  <th>Df Residuals:</th>          <td>  4330</td>      <th>  BIC:               </th> <td>1.579e+04</td>\n",
       "</tr>\n",
       "<tr>\n",
       "  <th>Df Model:</th>              <td>    17</td>      <th>                     </th>     <td> </td>    \n",
       "</tr>\n",
       "<tr>\n",
       "  <th>Covariance Type:</th>      <td>nonrobust</td>    <th>                     </th>     <td> </td>    \n",
       "</tr>\n",
       "</table>\n",
       "<table class=\"simpletable\">\n",
       "<tr>\n",
       "             <td></td>               <th>coef</th>     <th>std err</th>      <th>t</th>      <th>P>|t|</th>  <th>[0.025</th>    <th>0.975]</th>  \n",
       "</tr>\n",
       "<tr>\n",
       "  <th>Intercept</th>              <td>   -1.1314</td> <td>    0.217</td> <td>   -5.225</td> <td> 0.000</td> <td>   -1.556</td> <td>   -0.707</td>\n",
       "</tr>\n",
       "<tr>\n",
       "  <th>religion[T.other]</th>      <td>   -0.1205</td> <td>    0.085</td> <td>   -1.426</td> <td> 0.154</td> <td>   -0.286</td> <td>    0.045</td>\n",
       "</tr>\n",
       "<tr>\n",
       "  <th>religion[T.protestant]</th> <td>   -0.0312</td> <td>    0.084</td> <td>   -0.372</td> <td> 0.710</td> <td>   -0.196</td> <td>    0.133</td>\n",
       "</tr>\n",
       "<tr>\n",
       "  <th>religion[T.spirit]</th>     <td>   -0.0387</td> <td>    0.079</td> <td>   -0.490</td> <td> 0.624</td> <td>   -0.193</td> <td>    0.116</td>\n",
       "</tr>\n",
       "<tr>\n",
       "  <th>age</th>                    <td>    0.1776</td> <td>    0.003</td> <td>   53.935</td> <td> 0.000</td> <td>    0.171</td> <td>    0.184</td>\n",
       "</tr>\n",
       "<tr>\n",
       "  <th>educ</th>                   <td>   -0.0563</td> <td>    0.007</td> <td>   -7.603</td> <td> 0.000</td> <td>   -0.071</td> <td>   -0.042</td>\n",
       "</tr>\n",
       "<tr>\n",
       "  <th>idlnchld</th>               <td>    0.0693</td> <td>    0.011</td> <td>    6.191</td> <td> 0.000</td> <td>    0.047</td> <td>    0.091</td>\n",
       "</tr>\n",
       "<tr>\n",
       "  <th>knowmeth</th>               <td>    0.8622</td> <td>    0.122</td> <td>    7.089</td> <td> 0.000</td> <td>    0.624</td> <td>    1.101</td>\n",
       "</tr>\n",
       "<tr>\n",
       "  <th>agefm</th>                  <td>   -0.0646</td> <td>    0.007</td> <td>   -9.672</td> <td> 0.000</td> <td>   -0.078</td> <td>   -0.052</td>\n",
       "</tr>\n",
       "<tr>\n",
       "  <th>heduc</th>                  <td>   -0.0496</td> <td>    0.008</td> <td>   -6.032</td> <td> 0.000</td> <td>   -0.066</td> <td>   -0.033</td>\n",
       "</tr>\n",
       "<tr>\n",
       "  <th>urban</th>                  <td>   -0.1830</td> <td>    0.048</td> <td>   -3.807</td> <td> 0.000</td> <td>   -0.277</td> <td>   -0.089</td>\n",
       "</tr>\n",
       "<tr>\n",
       "  <th>electric</th>               <td>   -0.2540</td> <td>    0.079</td> <td>   -3.225</td> <td> 0.001</td> <td>   -0.408</td> <td>   -0.100</td>\n",
       "</tr>\n",
       "<tr>\n",
       "  <th>radio</th>                  <td>   -0.0021</td> <td>    0.052</td> <td>   -0.040</td> <td> 0.968</td> <td>   -0.104</td> <td>    0.100</td>\n",
       "</tr>\n",
       "<tr>\n",
       "  <th>tv</th>                     <td>   -0.1895</td> <td>    0.095</td> <td>   -2.004</td> <td> 0.045</td> <td>   -0.375</td> <td>   -0.004</td>\n",
       "</tr>\n",
       "<tr>\n",
       "  <th>bicycle</th>                <td>    0.2049</td> <td>    0.051</td> <td>    4.000</td> <td> 0.000</td> <td>    0.104</td> <td>    0.305</td>\n",
       "</tr>\n",
       "<tr>\n",
       "  <th>nevermarr</th>              <td>   -1.5680</td> <td>    0.193</td> <td>   -8.143</td> <td> 0.000</td> <td>   -1.946</td> <td>   -1.190</td>\n",
       "</tr>\n",
       "<tr>\n",
       "  <th>heduc_noans</th>            <td>   -0.7796</td> <td>    0.148</td> <td>   -5.282</td> <td> 0.000</td> <td>   -1.069</td> <td>   -0.490</td>\n",
       "</tr>\n",
       "<tr>\n",
       "  <th>idlnchld_noans</th>         <td>    0.5265</td> <td>    0.155</td> <td>    3.387</td> <td> 0.001</td> <td>    0.222</td> <td>    0.831</td>\n",
       "</tr>\n",
       "</table>\n",
       "<table class=\"simpletable\">\n",
       "<tr>\n",
       "  <th>Omnibus:</th>       <td>251.332</td> <th>  Durbin-Watson:     </th> <td>   1.911</td> \n",
       "</tr>\n",
       "<tr>\n",
       "  <th>Prob(Omnibus):</th> <td> 0.000</td>  <th>  Jarque-Bera (JB):  </th> <td> 940.025</td> \n",
       "</tr>\n",
       "<tr>\n",
       "  <th>Skew:</th>          <td>-0.159</td>  <th>  Prob(JB):          </th> <td>7.52e-205</td>\n",
       "</tr>\n",
       "<tr>\n",
       "  <th>Kurtosis:</th>      <td> 5.255</td>  <th>  Cond. No.          </th> <td>    369.</td> \n",
       "</tr>\n",
       "</table><br/><br/>Warnings:<br/>[1] Standard Errors assume that the covariance matrix of the errors is correctly specified."
      ],
      "text/plain": [
       "<class 'statsmodels.iolib.summary.Summary'>\n",
       "\"\"\"\n",
       "                            OLS Regression Results                            \n",
       "==============================================================================\n",
       "Dep. Variable:                    ceb   R-squared:                       0.629\n",
       "Model:                            OLS   Adj. R-squared:                  0.628\n",
       "Method:                 Least Squares   F-statistic:                     432.2\n",
       "Date:                Sun, 09 Dec 2018   Prob (F-statistic):               0.00\n",
       "Time:                        20:21:26   Log-Likelihood:                -7822.1\n",
       "No. Observations:                4348   AIC:                         1.568e+04\n",
       "Df Residuals:                    4330   BIC:                         1.579e+04\n",
       "Df Model:                          17                                         \n",
       "Covariance Type:            nonrobust                                         \n",
       "==========================================================================================\n",
       "                             coef    std err          t      P>|t|      [0.025      0.975]\n",
       "------------------------------------------------------------------------------------------\n",
       "Intercept                 -1.1314      0.217     -5.225      0.000      -1.556      -0.707\n",
       "religion[T.other]         -0.1205      0.085     -1.426      0.154      -0.286       0.045\n",
       "religion[T.protestant]    -0.0312      0.084     -0.372      0.710      -0.196       0.133\n",
       "religion[T.spirit]        -0.0387      0.079     -0.490      0.624      -0.193       0.116\n",
       "age                        0.1776      0.003     53.935      0.000       0.171       0.184\n",
       "educ                      -0.0563      0.007     -7.603      0.000      -0.071      -0.042\n",
       "idlnchld                   0.0693      0.011      6.191      0.000       0.047       0.091\n",
       "knowmeth                   0.8622      0.122      7.089      0.000       0.624       1.101\n",
       "agefm                     -0.0646      0.007     -9.672      0.000      -0.078      -0.052\n",
       "heduc                     -0.0496      0.008     -6.032      0.000      -0.066      -0.033\n",
       "urban                     -0.1830      0.048     -3.807      0.000      -0.277      -0.089\n",
       "electric                  -0.2540      0.079     -3.225      0.001      -0.408      -0.100\n",
       "radio                     -0.0021      0.052     -0.040      0.968      -0.104       0.100\n",
       "tv                        -0.1895      0.095     -2.004      0.045      -0.375      -0.004\n",
       "bicycle                    0.2049      0.051      4.000      0.000       0.104       0.305\n",
       "nevermarr                 -1.5680      0.193     -8.143      0.000      -1.946      -1.190\n",
       "heduc_noans               -0.7796      0.148     -5.282      0.000      -1.069      -0.490\n",
       "idlnchld_noans             0.5265      0.155      3.387      0.001       0.222       0.831\n",
       "==============================================================================\n",
       "Omnibus:                      251.332   Durbin-Watson:                   1.911\n",
       "Prob(Omnibus):                  0.000   Jarque-Bera (JB):              940.025\n",
       "Skew:                          -0.159   Prob(JB):                    7.52e-205\n",
       "Kurtosis:                       5.255   Cond. No.                         369.\n",
       "==============================================================================\n",
       "\n",
       "Warnings:\n",
       "[1] Standard Errors assume that the covariance matrix of the errors is correctly specified.\n",
       "\"\"\""
      ]
     },
     "execution_count": 320,
     "metadata": {},
     "output_type": "execute_result"
    }
   ],
   "source": [
    "fitted_model_3 = smf.ols(\"ceb ~ age + educ + religion + idlnchld + knowmeth + agefm + heduc + urban + electric + radio + tv + bicycle + nevermarr + heduc_noans + idlnchld_noans\", test_data).fit()\n",
    "fitted_model_3.summary()"
   ]
  },
  {
   "cell_type": "code",
   "execution_count": 321,
   "metadata": {},
   "outputs": [
    {
     "data": {
      "text/plain": [
       "(91.36702105075616, 1.363410090135935e-39, 2.0)"
      ]
     },
     "execution_count": 321,
     "metadata": {},
     "output_type": "execute_result"
    }
   ],
   "source": [
    "fitted_model.compare_f_test(fitted_model_3)"
   ]
  },
  {
   "cell_type": "code",
   "execution_count": 323,
   "metadata": {},
   "outputs": [
    {
     "data": {
      "text/html": [
       "<table class=\"simpletable\">\n",
       "<caption>OLS Regression Results</caption>\n",
       "<tr>\n",
       "  <th>Dep. Variable:</th>           <td>ceb</td>       <th>  R-squared:         </th> <td>   0.626</td> \n",
       "</tr>\n",
       "<tr>\n",
       "  <th>Model:</th>                   <td>OLS</td>       <th>  Adj. R-squared:    </th> <td>   0.624</td> \n",
       "</tr>\n",
       "<tr>\n",
       "  <th>Method:</th>             <td>Least Squares</td>  <th>  F-statistic:       </th> <td>   314.3</td> \n",
       "</tr>\n",
       "<tr>\n",
       "  <th>Date:</th>             <td>Sun, 09 Dec 2018</td> <th>  Prob (F-statistic):</th>  <td>  0.00</td>  \n",
       "</tr>\n",
       "<tr>\n",
       "  <th>Time:</th>                 <td>20:22:02</td>     <th>  Log-Likelihood:    </th> <td> -7842.2</td> \n",
       "</tr>\n",
       "<tr>\n",
       "  <th>No. Observations:</th>      <td>  4348</td>      <th>  AIC:               </th> <td>1.572e+04</td>\n",
       "</tr>\n",
       "<tr>\n",
       "  <th>Df Residuals:</th>          <td>  4332</td>      <th>  BIC:               </th> <td>1.582e+04</td>\n",
       "</tr>\n",
       "<tr>\n",
       "  <th>Df Model:</th>              <td>    15</td>      <th>                     </th>     <td> </td>    \n",
       "</tr>\n",
       "<tr>\n",
       "  <th>Covariance Type:</th>         <td>HC1</td>       <th>                     </th>     <td> </td>    \n",
       "</tr>\n",
       "</table>\n",
       "<table class=\"simpletable\">\n",
       "<tr>\n",
       "             <td></td>               <th>coef</th>     <th>std err</th>      <th>z</th>      <th>P>|z|</th>  <th>[0.025</th>    <th>0.975]</th>  \n",
       "</tr>\n",
       "<tr>\n",
       "  <th>Intercept</th>              <td>   -1.0987</td> <td>    0.261</td> <td>   -4.207</td> <td> 0.000</td> <td>   -1.611</td> <td>   -0.587</td>\n",
       "</tr>\n",
       "<tr>\n",
       "  <th>religion[T.other]</th>      <td>   -0.1193</td> <td>    0.079</td> <td>   -1.511</td> <td> 0.131</td> <td>   -0.274</td> <td>    0.035</td>\n",
       "</tr>\n",
       "<tr>\n",
       "  <th>religion[T.protestant]</th> <td>   -0.0274</td> <td>    0.079</td> <td>   -0.349</td> <td> 0.727</td> <td>   -0.181</td> <td>    0.127</td>\n",
       "</tr>\n",
       "<tr>\n",
       "  <th>religion[T.spirit]</th>     <td>   -0.0344</td> <td>    0.072</td> <td>   -0.476</td> <td> 0.634</td> <td>   -0.176</td> <td>    0.107</td>\n",
       "</tr>\n",
       "<tr>\n",
       "  <th>age</th>                    <td>    0.1788</td> <td>    0.004</td> <td>   41.305</td> <td> 0.000</td> <td>    0.170</td> <td>    0.187</td>\n",
       "</tr>\n",
       "<tr>\n",
       "  <th>educ</th>                   <td>   -0.0618</td> <td>    0.007</td> <td>   -8.351</td> <td> 0.000</td> <td>   -0.076</td> <td>   -0.047</td>\n",
       "</tr>\n",
       "<tr>\n",
       "  <th>idlnchld</th>               <td>    0.0549</td> <td>    0.014</td> <td>    3.939</td> <td> 0.000</td> <td>    0.028</td> <td>    0.082</td>\n",
       "</tr>\n",
       "<tr>\n",
       "  <th>knowmeth</th>               <td>    0.8237</td> <td>    0.172</td> <td>    4.800</td> <td> 0.000</td> <td>    0.487</td> <td>    1.160</td>\n",
       "</tr>\n",
       "<tr>\n",
       "  <th>agefm</th>                  <td>   -0.0655</td> <td>    0.010</td> <td>   -6.567</td> <td> 0.000</td> <td>   -0.085</td> <td>   -0.046</td>\n",
       "</tr>\n",
       "<tr>\n",
       "  <th>heduc</th>                  <td>   -0.0347</td> <td>    0.009</td> <td>   -3.983</td> <td> 0.000</td> <td>   -0.052</td> <td>   -0.018</td>\n",
       "</tr>\n",
       "<tr>\n",
       "  <th>urban</th>                  <td>   -0.1955</td> <td>    0.047</td> <td>   -4.156</td> <td> 0.000</td> <td>   -0.288</td> <td>   -0.103</td>\n",
       "</tr>\n",
       "<tr>\n",
       "  <th>electric</th>               <td>   -0.2752</td> <td>    0.076</td> <td>   -3.619</td> <td> 0.000</td> <td>   -0.424</td> <td>   -0.126</td>\n",
       "</tr>\n",
       "<tr>\n",
       "  <th>radio</th>                  <td>   -0.0084</td> <td>    0.054</td> <td>   -0.154</td> <td> 0.877</td> <td>   -0.115</td> <td>    0.098</td>\n",
       "</tr>\n",
       "<tr>\n",
       "  <th>tv</th>                     <td>   -0.2119</td> <td>    0.084</td> <td>   -2.515</td> <td> 0.012</td> <td>   -0.377</td> <td>   -0.047</td>\n",
       "</tr>\n",
       "<tr>\n",
       "  <th>bicycle</th>                <td>    0.2063</td> <td>    0.050</td> <td>    4.160</td> <td> 0.000</td> <td>    0.109</td> <td>    0.303</td>\n",
       "</tr>\n",
       "<tr>\n",
       "  <th>nevermarr</th>              <td>   -2.2421</td> <td>    0.205</td> <td>  -10.960</td> <td> 0.000</td> <td>   -2.643</td> <td>   -1.841</td>\n",
       "</tr>\n",
       "</table>\n",
       "<table class=\"simpletable\">\n",
       "<tr>\n",
       "  <th>Omnibus:</th>       <td>243.648</td> <th>  Durbin-Watson:     </th> <td>   1.908</td> \n",
       "</tr>\n",
       "<tr>\n",
       "  <th>Prob(Omnibus):</th> <td> 0.000</td>  <th>  Jarque-Bera (JB):  </th> <td> 917.277</td> \n",
       "</tr>\n",
       "<tr>\n",
       "  <th>Skew:</th>          <td>-0.134</td>  <th>  Prob(JB):          </th> <td>6.54e-200</td>\n",
       "</tr>\n",
       "<tr>\n",
       "  <th>Kurtosis:</th>      <td> 5.234</td>  <th>  Cond. No.          </th> <td>    354.</td> \n",
       "</tr>\n",
       "</table><br/><br/>Warnings:<br/>[1] Standard Errors are heteroscedasticity robust (HC1)"
      ],
      "text/plain": [
       "<class 'statsmodels.iolib.summary.Summary'>\n",
       "\"\"\"\n",
       "                            OLS Regression Results                            \n",
       "==============================================================================\n",
       "Dep. Variable:                    ceb   R-squared:                       0.626\n",
       "Model:                            OLS   Adj. R-squared:                  0.624\n",
       "Method:                 Least Squares   F-statistic:                     314.3\n",
       "Date:                Sun, 09 Dec 2018   Prob (F-statistic):               0.00\n",
       "Time:                        20:22:02   Log-Likelihood:                -7842.2\n",
       "No. Observations:                4348   AIC:                         1.572e+04\n",
       "Df Residuals:                    4332   BIC:                         1.582e+04\n",
       "Df Model:                          15                                         \n",
       "Covariance Type:                  HC1                                         \n",
       "==========================================================================================\n",
       "                             coef    std err          z      P>|z|      [0.025      0.975]\n",
       "------------------------------------------------------------------------------------------\n",
       "Intercept                 -1.0987      0.261     -4.207      0.000      -1.611      -0.587\n",
       "religion[T.other]         -0.1193      0.079     -1.511      0.131      -0.274       0.035\n",
       "religion[T.protestant]    -0.0274      0.079     -0.349      0.727      -0.181       0.127\n",
       "religion[T.spirit]        -0.0344      0.072     -0.476      0.634      -0.176       0.107\n",
       "age                        0.1788      0.004     41.305      0.000       0.170       0.187\n",
       "educ                      -0.0618      0.007     -8.351      0.000      -0.076      -0.047\n",
       "idlnchld                   0.0549      0.014      3.939      0.000       0.028       0.082\n",
       "knowmeth                   0.8237      0.172      4.800      0.000       0.487       1.160\n",
       "agefm                     -0.0655      0.010     -6.567      0.000      -0.085      -0.046\n",
       "heduc                     -0.0347      0.009     -3.983      0.000      -0.052      -0.018\n",
       "urban                     -0.1955      0.047     -4.156      0.000      -0.288      -0.103\n",
       "electric                  -0.2752      0.076     -3.619      0.000      -0.424      -0.126\n",
       "radio                     -0.0084      0.054     -0.154      0.877      -0.115       0.098\n",
       "tv                        -0.2119      0.084     -2.515      0.012      -0.377      -0.047\n",
       "bicycle                    0.2063      0.050      4.160      0.000       0.109       0.303\n",
       "nevermarr                 -2.2421      0.205    -10.960      0.000      -2.643      -1.841\n",
       "==============================================================================\n",
       "Omnibus:                      243.648   Durbin-Watson:                   1.908\n",
       "Prob(Omnibus):                  0.000   Jarque-Bera (JB):              917.277\n",
       "Skew:                          -0.134   Prob(JB):                    6.54e-200\n",
       "Kurtosis:                       5.234   Cond. No.                         354.\n",
       "==============================================================================\n",
       "\n",
       "Warnings:\n",
       "[1] Standard Errors are heteroscedasticity robust (HC1)\n",
       "\"\"\""
      ]
     },
     "execution_count": 323,
     "metadata": {},
     "output_type": "execute_result"
    }
   ],
   "source": [
    "fitted_model_final = smf.ols(\"ceb ~ age + educ + religion + idlnchld + knowmeth + agefm + heduc + urban + electric + radio + tv + bicycle + nevermarr\", test_data).fit(cov_type=\"HC1\")\n",
    "fitted_model_final.summary()"
   ]
  },
  {
   "cell_type": "code",
   "execution_count": null,
   "metadata": {},
   "outputs": [],
   "source": []
  },
  {
   "cell_type": "code",
   "execution_count": null,
   "metadata": {},
   "outputs": [],
   "source": []
  }
 ],
 "metadata": {
  "kernelspec": {
   "display_name": "Python 2",
   "language": "python",
   "name": "python2"
  },
  "language_info": {
   "codemirror_mode": {
    "name": "ipython",
    "version": 2
   },
   "file_extension": ".py",
   "mimetype": "text/x-python",
   "name": "python",
   "nbconvert_exporter": "python",
   "pygments_lexer": "ipython2",
   "version": "2.7.15"
  }
 },
 "nbformat": 4,
 "nbformat_minor": 2
}
