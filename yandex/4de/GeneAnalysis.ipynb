{
 "cells": [
  {
   "cell_type": "code",
   "execution_count": 50,
   "metadata": {},
   "outputs": [],
   "source": [
    "import pandas as pd\n",
    "import statsmodels.stats.multitest as smm\n",
    "import scipy.stats as sts\n",
    "from statsmodels.sandbox.stats.multicomp import multipletests\n",
    "\n",
    "from __future__ import division"
   ]
  },
  {
   "cell_type": "code",
   "execution_count": 2,
   "metadata": {},
   "outputs": [],
   "source": [
    "data = pd.read_csv(\"gene_high_throughput_sequencing.csv\")"
   ]
  },
  {
   "cell_type": "markdown",
   "metadata": {},
   "source": [
    "Описание используемых данных\n",
    "\n",
    "Данные для этой задачи взяты из исследования, проведенного в Stanford School of Medicine. В исследовании была предпринята попытка выявить набор генов, которые позволили бы более точно диагностировать возникновение рака груди на самых ранних стадиях.\n",
    "\n",
    "В эксперименте принимали участие 24 человек, у которых не было рака груди (normal), 25 человек, у которых это заболевание было диагностировано на ранней стадии (early neoplasia), и 23 человека с сильно выраженными симптомами (cancer)."
   ]
  },
  {
   "cell_type": "markdown",
   "metadata": {},
   "source": [
    "<img src=\"https://d3c33hcgiwev3.cloudfront.net/imageAssetProxy.v1/4X1xdyT5EeaOqxJVfwisfQ_68ac7a7a52dcac7f81505b3f20cd2896____________.png?expiry=1544486400000&hmac=HVGey8hIH0Df6ZNI9PZWsRJSAs1_WgFtY2oqpeVsPi8\">"
   ]
  },
  {
   "cell_type": "markdown",
   "metadata": {},
   "source": [
    "Ученые провели секвенирование биологического материала испытуемых, чтобы понять, какие из этих генов наиболее активны в клетках больных людей.\n",
    "\n",
    "Секвенирование — это определение степени активности генов в анализируемом образце с помощью подсчёта количества соответствующей каждому гену РНК.\n",
    "\n",
    "В данных для этого задания вы найдете именно эту количественную меру активности каждого из 15748 генов у каждого из 72 человек, принимавших участие в эксперименте.\n",
    "\n",
    "Вам нужно будет определить те гены, активность которых у людей в разных стадиях заболевания отличается статистически значимо.\n",
    "\n",
    "Кроме того, вам нужно будет оценить не только статистическую, но и практическую значимость этих результатов, которая часто используется в подобных исследованиях.\n",
    "\n",
    "Диагноз человека содержится в столбце под названием \"Diagnosis\"."
   ]
  },
  {
   "cell_type": "markdown",
   "metadata": {},
   "source": [
    "Практическая значимость изменения\n",
    "\n",
    "Цель исследований — найти гены, средняя экспрессия которых отличается не только статистически значимо, но и достаточно сильно. В экспрессионных исследованиях для этого часто используется метрика, которая называется fold change (кратность изменения). Определяется она следующим образом:\n",
    "\n",
    "F_c(C,T) = {T/C, T > C ; -C/T, T < C}\n",
    "\n",
    "где C,T C, T C,T — средние значения экспрессии гена в control и treatment группах соответственно. По сути, fold change показывает, во сколько раз отличаются средние двух выборок."
   ]
  },
  {
   "cell_type": "code",
   "execution_count": 3,
   "metadata": {},
   "outputs": [
    {
     "data": {
      "text/plain": [
       "array(['normal', 'early neoplasia', 'cancer'], dtype=object)"
      ]
     },
     "execution_count": 3,
     "metadata": {},
     "output_type": "execute_result"
    }
   ],
   "source": [
    "data.Diagnosis.unique()"
   ]
  },
  {
   "cell_type": "code",
   "execution_count": 26,
   "metadata": {},
   "outputs": [],
   "source": [
    "normal = data[data.Diagnosis == \"normal\"].drop([\"Patient_id\", \"Diagnosis\"], axis=1)\n",
    "early = data[data.Diagnosis == \"early neoplasia\"].drop([\"Patient_id\", \"Diagnosis\"], axis=1)\n",
    "cancer = data[data.Diagnosis == \"cancer\"].drop([\"Patient_id\", \"Diagnosis\"], axis=1)"
   ]
  },
  {
   "cell_type": "code",
   "execution_count": 6,
   "metadata": {},
   "outputs": [],
   "source": [
    "def student_test(data1, data2):\n",
    "    students_mtest = list()\n",
    "    genes = data1.columns.tolist()[2:]\n",
    "\n",
    "    for gene in genes:\n",
    "        students_mtest.append(sts.ttest_ind(data1[gene], data2[gene], equal_var=False)[1])\n",
    "    \n",
    "    # Gather only statisticaly significant diff genes and their pvalues.\n",
    "    return [(gen,pval) for gen,pval in zip(genes, students_mtest)]\n",
    "\n",
    "def write_answer(data, number):\n",
    "    ans = \"answer\" + str(number) + \".txt\"\n",
    "    with open(ans, \"w+\") as file:\n",
    "        file.write(str(data))\n",
    "        \n",
    "\n",
    "def fold_change(data1, data2, genes):\n",
    "    data1 = data1[genes].mean()\n",
    "    data2 = data2[genes].mean()\n",
    "\n",
    "    pre_process = map(lambda t,c : t/c if t > c else -c/t, data1.values, data2.values)\n",
    "    return [True if abs(i) > 1.5 else False for i in pre_process]"
   ]
  },
  {
   "cell_type": "code",
   "execution_count": 8,
   "metadata": {},
   "outputs": [],
   "source": [
    "normal_early_test_genpval  = student_test(normal, early)\n",
    "student_ne = [True if i[1] < 0.05 else False for i in normal_early_test_genpval]\n",
    "\n",
    "write_answer(sum(student_ne), 1)"
   ]
  },
  {
   "cell_type": "code",
   "execution_count": 10,
   "metadata": {},
   "outputs": [
    {
     "name": "stdout",
     "output_type": "stream",
     "text": [
      "3490\n"
     ]
    }
   ],
   "source": [
    "early_cancer_test_genpval = student_test(early, cancer)\n",
    "\n",
    "student_ec = [True if i[1] < 0.05 else False for i in early_cancer_test_genpval]\n",
    "\n",
    "print(sum(student_ec))\n",
    "write_answer(sum(student_ec),2)"
   ]
  },
  {
   "cell_type": "code",
   "execution_count": 47,
   "metadata": {},
   "outputs": [],
   "source": [
    "normal_early_test_pval = [i[1] for i in normal_early_test_genpval]\n",
    "early_cancer_test_pval= [i[1] for i in early_cancer_test_genpval]"
   ]
  },
  {
   "cell_type": "code",
   "execution_count": 12,
   "metadata": {},
   "outputs": [],
   "source": [
    "reject_normal_early_holm = multipletests(normal_early_test_pval,alpha = 0.025, method = 'holm')[0]\n",
    "reject_normal_early_holm_genes = [normal_early_test_genpval[i][0] for i in range(len(normal_early_test_pval)) if reject_normal_early_holm[i]]\n",
    "\n",
    "reject_early_cancer_holm = multipletests(early_cancer_test_pval, alpha = 0.025, method = 'holm')[0]\n",
    "reject_early_cancer_holm_genes = [early_cancer_test_genpval[i][0] for i in range(len(reject_early_cancer_holm)) if reject_early_cancer_holm[i]]"
   ]
  },
  {
   "cell_type": "code",
   "execution_count": 13,
   "metadata": {},
   "outputs": [],
   "source": [
    "normal_early_holm = fold_change(normal, early, reject_normal_early_holm_genes)\n",
    "early_cancer_holm = fold_change(early, cancer, reject_early_cancer_holm_genes)\n",
    "\n",
    "write_answer(sum(normal_early_holm),3)\n",
    "write_answer(sum(early_cancer_holm),4)"
   ]
  },
  {
   "cell_type": "code",
   "execution_count": 42,
   "metadata": {},
   "outputs": [],
   "source": [
    "reject_normal_early_bh = multipletests(normal_early_test_pval, alpha = 0.025, method = 'fdr_bh')[0]\n",
    "reject_normal_early_bh_genes = [normal_early_test_genpval[i][0] for i in range(len(normal_early_test_pval)) if reject_normal_early_bh[i]]\n",
    "\n",
    "reject_early_cancer_bh = multipletests(early_cancer_test_pval, alpha = 0.025, method = 'fdr_bh')[0]\n",
    "reject_early_cancer_bh_genes = [early_cancer_test_genpval[i][0] for i in range(len(reject_early_cancer_holm)) if reject_early_cancer_bh[i]]"
   ]
  },
  {
   "cell_type": "code",
   "execution_count": 45,
   "metadata": {},
   "outputs": [],
   "source": [
    "normal_early_bh = fold_change(normal, early, reject_normal_early_bh_genes)\n",
    "early_cancer_bh = fold_change(early, cancer, reject_early_cancer_bh_genes)\n",
    "\n",
    "write_answer(sum(normal_early_bh),5)\n",
    "write_answer(sum(early_cancer_bh),6)\n"
   ]
  }
 ],
 "metadata": {
  "kernelspec": {
   "display_name": "Python 2",
   "language": "python",
   "name": "python2"
  },
  "language_info": {
   "codemirror_mode": {
    "name": "ipython",
    "version": 2
   },
   "file_extension": ".py",
   "mimetype": "text/x-python",
   "name": "python",
   "nbconvert_exporter": "python",
   "pygments_lexer": "ipython2",
   "version": "2.7.15"
  }
 },
 "nbformat": 4,
 "nbformat_minor": 2
}
